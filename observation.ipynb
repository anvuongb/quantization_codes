{
 "cells": [
  {
   "cell_type": "code",
   "execution_count": 1,
   "id": "d1344f8f-31de-44e1-9848-215b5ac3d53c",
   "metadata": {},
   "outputs": [],
   "source": [
    "import argparse\n",
    "import numpy as np\n",
    "import os\n",
    "import ast\n",
    "import scipy\n",
    "from helpers import *\n",
    "# import yaml\n",
    "import time"
   ]
  },
  {
   "cell_type": "code",
   "execution_count": 27,
   "id": "98e9d660-2463-4044-a601-918834e79a65",
   "metadata": {},
   "outputs": [
    {
     "name": "stdout",
     "output_type": "stream",
     "text": [
      "optimal 0.39127366675657194 [4.99999997e-01 4.51610640e-09 4.99999997e-01]\n"
     ]
    }
   ],
   "source": [
    "X = np.array([-3, 0, 3])\n",
    "Q = len(X)\n",
    "N = 200\n",
    "search_interval = [-8,8]\n",
    "int_start = search_interval[0]\n",
    "int_end = search_interval[1]\n",
    "step = (int_end-int_start)/N\n",
    "S = np.linspace(int_start, int_end, N+1)\n",
    "M = Q\n",
    "\n",
    "sigma = 3\n",
    "Y = X + np.random.randn(Q)*sigma\n",
    "Phi = [scipy.stats.norm(loc=X[i], scale=sigma) for i in range(Q)]\n",
    "\n",
    "Hx= [-8, -1.52, 1.52, 8]\n",
    "Azx = np.zeros((M, Q))\n",
    "for j in range(Q):\n",
    "    for i in range(M):\n",
    "        Azx[i, j] = Phi[j].cdf(Hx[i+1]) - Phi[j].cdf(Hx[i])\n",
    "status, obj_value, px_value = calculate_optimal_distribution(Q, M, Azx)\n",
    "\n",
    "print(status, obj_value, px_value)"
   ]
  },
  {
   "cell_type": "code",
   "execution_count": 30,
   "id": "a0382c0f-df71-4e7b-8bcb-5e2527fa939b",
   "metadata": {},
   "outputs": [
    {
     "name": "stdout",
     "output_type": "stream",
     "text": [
      "optimal 0.4095256372977658 [4.99999992e-01 7.05695261e-09 7.05695261e-09 4.99999992e-01]\n"
     ]
    }
   ],
   "source": [
    "X = np.array([-3, -1, 1, 3])\n",
    "Q = len(X)\n",
    "N = 200\n",
    "search_interval = [-8,8]\n",
    "int_start = search_interval[0]\n",
    "int_end = search_interval[1]\n",
    "step = (int_end-int_start)/N\n",
    "S = np.linspace(int_start, int_end, N+1)\n",
    "M = Q\n",
    "\n",
    "sigma = 3\n",
    "Y = X + np.random.randn(Q)*sigma\n",
    "Phi = [scipy.stats.norm(loc=X[i], scale=sigma) for i in range(Q)]\n",
    "\n",
    "Hx= [-8, -2, 0, 2, 8]\n",
    "Azx = np.zeros((M, Q))\n",
    "for j in range(Q):\n",
    "    for i in range(M):\n",
    "        Azx[i, j] = Phi[j].cdf(Hx[i+1]) - Phi[j].cdf(Hx[i])\n",
    "status, obj_value, px_value = calculate_optimal_distribution(Q, M, Azx)\n",
    "\n",
    "print(status, obj_value, px_value)"
   ]
  },
  {
   "cell_type": "code",
   "execution_count": 31,
   "id": "603b4cee-fb7a-40ef-a194-69ebe3009e79",
   "metadata": {},
   "outputs": [
    {
     "name": "stdout",
     "output_type": "stream",
     "text": [
      "optimal 0.5735037622921779 [4.99999997e-01 2.14060453e-09 1.39712098e-09 2.14060453e-09\n",
      " 4.99999997e-01]\n"
     ]
    }
   ],
   "source": [
    "X = np.array([-4, -2, 0, 2, 4])\n",
    "Q = len(X)\n",
    "N = 200\n",
    "search_interval = [-8,8]\n",
    "int_start = search_interval[0]\n",
    "int_end = search_interval[1]\n",
    "step = (int_end-int_start)/N\n",
    "S = np.linspace(int_start, int_end, N+1)\n",
    "M = Q\n",
    "\n",
    "sigma = 3\n",
    "Y = X + np.random.randn(Q)*sigma\n",
    "Phi = [scipy.stats.norm(loc=X[i], scale=sigma) for i in range(Q)]\n",
    "\n",
    "Hx= [-8, -3.04, -1.04, 1.04, 3.04, 8]\n",
    "Azx = np.zeros((M, Q))\n",
    "for j in range(Q):\n",
    "    for i in range(M):\n",
    "        Azx[i, j] = Phi[j].cdf(Hx[i+1]) - Phi[j].cdf(Hx[i])\n",
    "status, obj_value, px_value = calculate_optimal_distribution(Q, M, Azx)\n",
    "\n",
    "print(status, obj_value, px_value)"
   ]
  },
  {
   "cell_type": "code",
   "execution_count": 18,
   "id": "5ed41715-0884-4181-b0c7-77fd246d19aa",
   "metadata": {},
   "outputs": [
    {
     "data": {
      "text/plain": [
       "array([4.99999997e-01, 4.51610640e-09, 4.99999997e-01])"
      ]
     },
     "execution_count": 18,
     "metadata": {},
     "output_type": "execute_result"
    }
   ],
   "source": [
    "px_value"
   ]
  },
  {
   "cell_type": "code",
   "execution_count": 14,
   "id": "927231e4-5df8-428e-8f71-90e33647a6ef",
   "metadata": {},
   "outputs": [
    {
     "data": {
      "text/plain": [
       "1.377990480056045"
      ]
     },
     "execution_count": 14,
     "metadata": {},
     "output_type": "execute_result"
    }
   ],
   "source": [
    "obj_value"
   ]
  },
  {
   "cell_type": "code",
   "execution_count": 32,
   "id": "081b8310-218f-4004-b3d1-1accea69b581",
   "metadata": {},
   "outputs": [
    {
     "data": {
      "text/plain": [
       "2.2226"
      ]
     },
     "execution_count": 32,
     "metadata": {},
     "output_type": "execute_result"
    }
   ],
   "source": [
    "sum([0.3436, 0.6114, 0.3126, 0.6114, 0.3436] )"
   ]
  },
  {
   "cell_type": "code",
   "execution_count": 33,
   "id": "f95a3b73-ceb6-4000-b196-57f97e7358ec",
   "metadata": {},
   "outputs": [
    {
     "data": {
      "text/plain": [
       "0.9999"
      ]
     },
     "execution_count": 33,
     "metadata": {},
     "output_type": "execute_result"
    }
   ],
   "source": [
    "sum([0.3817, 0.2366, 0.3817] )"
   ]
  },
  {
   "cell_type": "code",
   "execution_count": 34,
   "id": "ff52d809-46b8-4be4-b195-b368db2ea257",
   "metadata": {},
   "outputs": [
    {
     "data": {
      "text/plain": [
       "0.9998"
      ]
     },
     "execution_count": 34,
     "metadata": {},
     "output_type": "execute_result"
    }
   ],
   "source": [
    "sum([0.3616, 0.1384, 0.1384, 0.3616])"
   ]
  },
  {
   "cell_type": "code",
   "execution_count": 36,
   "id": "daa3ea87-fc8a-4518-b34b-a435aacaa9bd",
   "metadata": {},
   "outputs": [
    {
     "data": {
      "text/plain": [
       "0.9998"
      ]
     },
     "execution_count": 36,
     "metadata": {},
     "output_type": "execute_result"
    }
   ],
   "source": [
    "sum([0.3437, 0, 0.3126, 0, 0.3437])"
   ]
  },
  {
   "cell_type": "code",
   "execution_count": null,
   "id": "15bf928f-88e7-4a94-86bd-24b0ea9dfab4",
   "metadata": {},
   "outputs": [],
   "source": []
  }
 ],
 "metadata": {
  "kernelspec": {
   "display_name": "tf2",
   "language": "python",
   "name": "tf2"
  },
  "language_info": {
   "codemirror_mode": {
    "name": "ipython",
    "version": 3
   },
   "file_extension": ".py",
   "mimetype": "text/x-python",
   "name": "python",
   "nbconvert_exporter": "python",
   "pygments_lexer": "ipython3",
   "version": "3.10.4"
  }
 },
 "nbformat": 4,
 "nbformat_minor": 5
}

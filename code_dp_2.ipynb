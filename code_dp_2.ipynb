{
 "cells": [
  {
   "cell_type": "code",
   "execution_count": 1,
   "id": "2ccaaf42-f34e-47b8-a32d-49ac12056f9a",
   "metadata": {},
   "outputs": [],
   "source": [
    "import cvxpy as cp\n",
    "import numpy as np\n",
    "import tqdm\n",
    "import scipy\n",
    "import math\n",
    "from scipy.special import xlogy\n",
    "import time"
   ]
  },
  {
   "cell_type": "markdown",
   "id": "4d00ce76-dd92-441f-81d9-5f819537ea59",
   "metadata": {},
   "source": [
    "## init"
   ]
  },
  {
   "cell_type": "code",
   "execution_count": 454,
   "id": "50b34d2a-5b30-4195-ac76-717ae9fcaf16",
   "metadata": {},
   "outputs": [],
   "source": [
    "X = np.array([-5, 2, 5])\n",
    "Q = len(X)\n",
    "N = 200\n",
    "start = -8\n",
    "end = 8\n",
    "step = (end-start)/N\n",
    "S = np.linspace(start, end, N+1)\n",
    "M = 3\n",
    "\n",
    "sigma = 1\n",
    "Y = X + np.random.randn(Q)*sigma\n",
    "\n",
    "Phi = [scipy.stats.norm(loc=X[i], scale=sigma) for i in range(Q)]\n",
    "\n",
    "Px = [1/3, 1/3, 1/3]"
   ]
  },
  {
   "cell_type": "markdown",
   "id": "de683638-e35b-441a-9e8d-229f79482840",
   "metadata": {},
   "source": [
    "Compute A(Y|X) and A(X|Y)"
   ]
  },
  {
   "cell_type": "code",
   "execution_count": 455,
   "id": "8260c7a2-efd7-49c6-a7b5-88f4ba3f6288",
   "metadata": {},
   "outputs": [],
   "source": [
    "Ayx = np.zeros((N, Q))\n",
    "\n",
    "for j in range(Q):\n",
    "    for i in range(N):\n",
    "        Ayx[i, j] = Phi[j].cdf(S[i+1]) - Phi[j].cdf(S[i])\n",
    "        \n",
    "Axy = np.zeros((Q, N))\n",
    "for m in range(Q):\n",
    "    for n in range(N):\n",
    "        Axy[m, n] = Px[m]*Ayx[n, m]/np.sum(Px*Ayx[n,:])\n",
    "        \n",
    "# fix nan values by repeating nearest row\n",
    "Axy_cp = Axy.T.copy()\n",
    "\n",
    "nan_index = np.arange(N)[np.any(np.isnan(Axy.T), axis=1) == True]\n",
    "upper_half = nan_index[nan_index<N/2]\n",
    "lower_half = nan_index[nan_index>=N/2]\n",
    "\n",
    "if len(upper_half) > 0:\n",
    "    upper_half_idx = upper_half[-1]\n",
    "    Axy_cp[:upper_half_idx+1,:] = Axy_cp[upper_half_idx+1,:]\n",
    "\n",
    "if len(lower_half) > 0:\n",
    "    lower_half_idx = lower_half[0]\n",
    "    Axy_cp[lower_half_idx:,:] = Axy_cp[lower_half_idx-1,:]\n",
    "    \n",
    "Axy = Axy_cp.T\n",
    "\n",
    "Py = np.matmul(Ayx, Px)\n",
    "\n",
    "Pxy = Axy*Py"
   ]
  },
  {
   "cell_type": "code",
   "execution_count": 457,
   "id": "482e907b-6655-4005-8a9e-a1e2f8ff5864",
   "metadata": {},
   "outputs": [],
   "source": [
    "def calc_w(l, r, Pxy, Py):\n",
    "    tmp = []\n",
    "    dem = np.sum(Py[l:r+1])\n",
    "    for k in range(l, r+1):\n",
    "        tmp_tmp = []\n",
    "        for i in range(Q):\n",
    "            num = np.sum(Pxy[i,l:r+1])\n",
    "            ent = xlogy(num/dem, num/dem)\n",
    "            # print(num, dem, ent)\n",
    "            tmp_tmp.append(ent)\n",
    "            # print(num, dem, ent)\n",
    "        tmp.append(Py[k]*sum(tmp_tmp))\n",
    "    return -np.sum(tmp)"
   ]
  },
  {
   "cell_type": "code",
   "execution_count": 458,
   "id": "4f566546-0eb3-4707-8ff6-440603b0dbfe",
   "metadata": {},
   "outputs": [
    {
     "data": {
      "text/plain": [
       "2.701497043691747e-16"
      ]
     },
     "execution_count": 458,
     "metadata": {},
     "output_type": "execute_result"
    }
   ],
   "source": [
    "calc_w(12, 19, Pxy, Py)"
   ]
  },
  {
   "cell_type": "code",
   "execution_count": 459,
   "id": "5fa04865-3039-4597-bc36-245dc877cabb",
   "metadata": {},
   "outputs": [
    {
     "data": {
      "text/plain": [
       "5.586549053562965e-20"
      ]
     },
     "execution_count": 459,
     "metadata": {},
     "output_type": "execute_result"
    }
   ],
   "source": [
    "calc_w(0, 7, Pxy, Py)"
   ]
  },
  {
   "cell_type": "code",
   "execution_count": 460,
   "id": "3abe585f-2766-4e64-b085-412d39667ade",
   "metadata": {
    "tags": []
   },
   "outputs": [
    {
     "name": "stderr",
     "output_type": "stream",
     "text": [
      "100%|█████████████████████████████████████████████████████████████████████████████████| 198/198 [00:19<00:00, 10.31it/s]\n",
      "100%|█████████████████████████████████████████████████████████████████████████████████| 198/198 [00:19<00:00, 10.26it/s]\n"
     ]
    }
   ],
   "source": [
    "DP = np.zeros((N, M))\n",
    "SOL = np.zeros((N, M))\n",
    "\n",
    "for n in range(N):\n",
    "    DP[n, 0] = calc_w(0, n, Pxy, Py)\n",
    "    SOL[n, 0] = 0\n",
    "    \n",
    "for m in range(1, M):\n",
    "    for n in tqdm.tqdm(np.arange(m, N-M+m+1)[::-1]):\n",
    "        tmp = []\n",
    "        for t in range(m-1, n):\n",
    "            tmp.append(DP[t, m-1] + calc_w(t+1, n, Pxy, Py))\n",
    "        # SOL[n, m] = np.argmin(tmp)\n",
    "        SOL[n, m] = np.arange(m-1, n)[np.argmin(tmp)]\n",
    "        t = int(SOL[n, m])\n",
    "        DP[n, m] = DP[t, m-1] + calc_w(t+1, n, Pxy, Py)"
   ]
  },
  {
   "cell_type": "code",
   "execution_count": 461,
   "id": "3467f4da-6498-4efd-be16-d1f5d2331e75",
   "metadata": {},
   "outputs": [],
   "source": [
    "H = []\n",
    "h_prev = N\n",
    "H.append(h_prev)\n",
    "for m in np.arange(M)[::-1]:\n",
    "    h_prev = int(SOL[h_prev-1, m]) + 1\n",
    "    H.append(h_prev)\n",
    "H[-1] -= 1\n",
    "H = H[::-1]"
   ]
  },
  {
   "cell_type": "code",
   "execution_count": 462,
   "id": "74cde67d-fee9-4320-a582-62ccdcf4282d",
   "metadata": {},
   "outputs": [
    {
     "name": "stdout",
     "output_type": "stream",
     "text": [
      "[0, 81, 144, 200] [-8.   -1.52  3.52  8.  ]\n"
     ]
    }
   ],
   "source": [
    "print(H, S[H])"
   ]
  },
  {
   "cell_type": "code",
   "execution_count": null,
   "id": "59bdc0ef-33b4-4e29-b86d-4780e31f8c56",
   "metadata": {},
   "outputs": [],
   "source": []
  }
 ],
 "metadata": {
  "kernelspec": {
   "display_name": "tf2",
   "language": "python",
   "name": "tf2"
  },
  "language_info": {
   "codemirror_mode": {
    "name": "ipython",
    "version": 3
   },
   "file_extension": ".py",
   "mimetype": "text/x-python",
   "name": "python",
   "nbconvert_exporter": "python",
   "pygments_lexer": "ipython3",
   "version": "3.10.4"
  }
 },
 "nbformat": 4,
 "nbformat_minor": 5
}

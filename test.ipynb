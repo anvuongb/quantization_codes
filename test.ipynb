{
 "cells": [
  {
   "cell_type": "code",
   "execution_count": 1,
   "id": "27bf012a-677d-4c42-9def-434ee3d77d6a",
   "metadata": {},
   "outputs": [],
   "source": [
    "import cvxpy as cp\n",
    "import numpy as np\n",
    "import tqdm\n",
    "import scipy\n",
    "import math\n",
    "from scipy.special import xlogy\n",
    "import time"
   ]
  },
  {
   "cell_type": "markdown",
   "id": "f60d20b2-eb90-4db0-8427-43fe394058d4",
   "metadata": {},
   "source": [
    "setting"
   ]
  },
  {
   "cell_type": "code",
   "execution_count": 2,
   "id": "e5fb9214-bf72-4c96-b653-00d8a3e70ae6",
   "metadata": {},
   "outputs": [],
   "source": [
    "X = np.array([-1, 0 ,1])\n",
    "N = len(X)\n",
    "M = 50\n",
    "S = np.linspace(-10, 10, M+1)\n",
    "K = 3"
   ]
  },
  {
   "cell_type": "markdown",
   "id": "cb43fd5b-45a8-443d-b6bd-c16a2b63d371",
   "metadata": {},
   "source": [
    "X corrupted by noise"
   ]
  },
  {
   "cell_type": "code",
   "execution_count": 3,
   "id": "4b62a5e6-7600-43c3-960f-82546f700534",
   "metadata": {},
   "outputs": [],
   "source": [
    "sigma = np.sqrt(5)\n",
    "U = X + np.random.randn(N)*sigma"
   ]
  },
  {
   "cell_type": "markdown",
   "id": "8a0c8980-4877-4032-81a0-ad0b0b72e118",
   "metadata": {},
   "source": [
    "conditional noise density"
   ]
  },
  {
   "cell_type": "code",
   "execution_count": 4,
   "id": "adb3800b-b072-49bd-85b7-c635e7b23f62",
   "metadata": {},
   "outputs": [],
   "source": [
    "Phi = [scipy.stats.norm(loc=X[i], scale=sigma) for i in range(N)]"
   ]
  },
  {
   "cell_type": "markdown",
   "id": "db54793f-4411-4f1e-bbbb-d0cdcfaff7d0",
   "metadata": {},
   "source": [
    "## step 1"
   ]
  },
  {
   "cell_type": "markdown",
   "id": "6575c1cb-00d9-4080-91aa-bfe08172e3fe",
   "metadata": {},
   "source": [
    "Quantizer"
   ]
  },
  {
   "cell_type": "code",
   "execution_count": 5,
   "id": "c21c86c3-b376-4a9e-995c-a5c6367a07bd",
   "metadata": {},
   "outputs": [],
   "source": [
    "H = [S[0], -0.5, 0.5, S[-1]]\n",
    "\n",
    "A = np.zeros((K, N))\n",
    "\n",
    "for j in range(N):\n",
    "    for i in range(K):\n",
    "        A[i, j] = Phi[j].cdf(H[i+1]) - Phi[j].cdf(H[i])"
   ]
  },
  {
   "cell_type": "code",
   "execution_count": 6,
   "id": "1230a11c-d461-4600-b2e0-1fd831d1158d",
   "metadata": {
    "tags": []
   },
   "outputs": [],
   "source": [
    "def channel_capacity(n, m, P, sum_x=1):\n",
    "    '''\n",
    "    Boyd and Vandenberghe, Convex Optimization, exercise 4.57 page 207\n",
    "    Capacity of a communication channel.\n",
    "\n",
    "    We consider a communication channel, with input X(t)∈{1,..,n} and\n",
    "    output Y(t)∈{1,...,m}, for t=1,2,... .The relation between the\n",
    "    input and output is given statistically:\n",
    "    p_(i,j) = ℙ(Y(t)=i|X(t)=j), i=1,..,m  j=1,...,n\n",
    "\n",
    "    The matrix P ∈ ℝ^(m*n) is called the channel transition matrix, and\n",
    "    the channel is called a discrete memoryless channel. Assuming X has a\n",
    "    probability distribution denoted x ∈ ℝ^n, i.e.,\n",
    "    x_j = ℙ(X=j), j=1,...,n\n",
    "\n",
    "    The mutual information between X and Y is given by\n",
    "    ∑(∑(x_j p_(i,j)log_2(p_(i,j)/∑(x_k p_(i,k)))))\n",
    "    Then channel capacity C is given by\n",
    "    C = sup I(X;Y).\n",
    "    With a variable change of y = Px this becomes\n",
    "    I(X;Y)=  c^T x - ∑(y_i log_2 y_i)\n",
    "    where c_j = ∑(p_(i,j)log_2(p_(i,j)))\n",
    "    '''\n",
    "\n",
    "    # n is the number of different input values\n",
    "    # m is the number of different output values\n",
    "    if n*m == 0:\n",
    "        print('The range of both input and output values must be greater than zero')\n",
    "        return 'failed', np.nan, np.nan\n",
    "\n",
    "    # x is probability distribution of the input signal X(t)\n",
    "    x = cp.Variable(shape=n)\n",
    "\n",
    "    # y is the probability distribution of the output signal Y(t)\n",
    "    # P is the channel transition matrix\n",
    "    y = P@x\n",
    "\n",
    "    # I is the mutual information between x and y\n",
    "    c = np.sum(np.array((xlogy(P, P) / math.log(2))), axis=0)\n",
    "    I = c@x + cp.sum(cp.entr(y) / math.log(2))\n",
    "\n",
    "    # Channel capacity maximised by maximising the mutual information\n",
    "    obj = cp.Maximize(I)\n",
    "    constraints = [cp.sum(x) == sum_x,x >= 0]\n",
    "\n",
    "    # Form and solve problem\n",
    "    prob = cp.Problem(obj,constraints)\n",
    "    prob.solve()\n",
    "    if prob.status=='optimal':\n",
    "        return prob.status, prob.value, x.value\n",
    "    else:\n",
    "        return prob.status, np.nan, np.nan"
   ]
  },
  {
   "cell_type": "code",
   "execution_count": 7,
   "id": "a731caea-0838-43b6-9ad4-9b2495f20e91",
   "metadata": {},
   "outputs": [],
   "source": [
    "status, obj_value, px_value = channel_capacity(N, K, A)"
   ]
  },
  {
   "cell_type": "code",
   "execution_count": 8,
   "id": "7e76068c-9151-49f1-ba58-1ba4bd0b5a1f",
   "metadata": {},
   "outputs": [
    {
     "data": {
      "text/plain": [
       "0.10054511943472244"
      ]
     },
     "execution_count": 8,
     "metadata": {},
     "output_type": "execute_result"
    }
   ],
   "source": [
    "obj_value"
   ]
  },
  {
   "cell_type": "code",
   "execution_count": 9,
   "id": "daa8aa91-2b12-4caf-ac7c-ef67c8a1c944",
   "metadata": {},
   "outputs": [
    {
     "data": {
      "text/plain": [
       "array([4.99999993e-01, 1.47191919e-08, 4.99999992e-01])"
      ]
     },
     "execution_count": 9,
     "metadata": {},
     "output_type": "execute_result"
    }
   ],
   "source": [
    "px_value"
   ]
  },
  {
   "cell_type": "markdown",
   "id": "6d5ab01a-7842-4262-a111-6f6bab8d3739",
   "metadata": {},
   "source": [
    "## step 2"
   ]
  },
  {
   "cell_type": "code",
   "execution_count": 10,
   "id": "64360806-0992-46b5-a54b-3bc77357e99c",
   "metadata": {},
   "outputs": [],
   "source": [
    "def calculate_D(px, i, j, k, S, N, Phi):\n",
    "    if k == 0:\n",
    "        return 0\n",
    "    if j <= i:\n",
    "        return 0\n",
    "    \n",
    "    H_thres = np.linspace(S[i], S[j], k+1)\n",
    "    \n",
    "    Ax = np.zeros((k, N))\n",
    "    for j in range(N):\n",
    "        for i in range(k):\n",
    "            Ax[i, j] = Phi[j].cdf(H_thres[i+1]) - Phi[j].cdf(H_thres[i])\n",
    "\n",
    "    Ay = np.zeros((N, k))\n",
    "    for j in range(N):\n",
    "        for i in range(k):\n",
    "            Ay[j, i] = px_value[j]*Ax[i,j]/np.sum(px*Ax[i,:])\n",
    "\n",
    "    py = np.matmul(Ax, px)\n",
    "    c = np.sum(np.array((xlogy(Ay, Ay) / math.log(2))), axis=0)\n",
    "    H_xy = -np.sum(py*c)\n",
    "    \n",
    "    return H_xy"
   ]
  },
  {
   "cell_type": "code",
   "execution_count": 85,
   "id": "d0adc075-10d3-4be8-b1d3-01796aa45e35",
   "metadata": {},
   "outputs": [],
   "source": [
    "def run_dp(px, N, M, K, S, Phi):\n",
    "    D = np.zeros((N, M, K))\n",
    "    H = np.zeros((K, M))\n",
    "\n",
    "    for k in range(1, K):\n",
    "        for i in range(N):\n",
    "            for j in range(1, M):\n",
    "                tmp = []\n",
    "                for q in range(j):\n",
    "                    tmp.append(calculate_D(px, i, q, k-1, S, N, Phi) +\\\n",
    "                                           calculate_D(px, q+1, j, 1, S, N, Phi))\n",
    "                D[i, j, k] = np.min(tmp)\n",
    "                H[k, j] = np.argmin(tmp)\n",
    "    H_K = M-1\n",
    "    H_opt = []\n",
    "    for i in np.arange(K-1)[::-1]:\n",
    "        H_ = H[i+1, int(H_K)]\n",
    "        H_opt.append(H_)\n",
    "        H_K = H_\n",
    "\n",
    "    H_opt = H_opt[::-1]\n",
    "    \n",
    "    return D, H, H_opt"
   ]
  },
  {
   "cell_type": "markdown",
   "id": "3166860e-46c0-4f27-9059-0e330090b382",
   "metadata": {},
   "source": [
    "## combine"
   ]
  },
  {
   "cell_type": "markdown",
   "id": "6c991861-7826-436c-8f4a-efd62502676e",
   "metadata": {},
   "source": [
    "### init"
   ]
  },
  {
   "cell_type": "code",
   "execution_count": 86,
   "id": "322db750-e32f-4ef3-9ad8-fdbc20bbea5c",
   "metadata": {},
   "outputs": [],
   "source": [
    "X = np.array([-3, 0, 3])\n",
    "N = len(X)\n",
    "M = 200\n",
    "S = np.linspace(-8, 8, M+1)\n",
    "K = 3"
   ]
  },
  {
   "cell_type": "code",
   "execution_count": 87,
   "id": "90990370-c547-4762-829a-dff243c2b8c9",
   "metadata": {},
   "outputs": [],
   "source": [
    "sigma = 0.1\n",
    "U = X + np.random.randn(N)*sigma"
   ]
  },
  {
   "cell_type": "code",
   "execution_count": 88,
   "id": "5c053b9f-5762-436b-b605-e7793bc0aa0a",
   "metadata": {},
   "outputs": [],
   "source": [
    "Phi = [scipy.stats.norm(loc=X[i], scale=sigma) for i in range(N)]"
   ]
  },
  {
   "cell_type": "code",
   "execution_count": 89,
   "id": "fa71bb58-737f-4c24-af0e-2471edeca96a",
   "metadata": {},
   "outputs": [],
   "source": [
    "Hx = [S[0], -1.5, 1.5, S[-1]]\n",
    "\n",
    "A = np.zeros((K, N))\n",
    "\n",
    "for j in range(N):\n",
    "    for i in range(K):\n",
    "        A[i, j] = Phi[j].cdf(Hx[i+1]) - Phi[j].cdf(Hx[i])"
   ]
  },
  {
   "cell_type": "code",
   "execution_count": 90,
   "id": "30ea0faf-2935-413a-b8e9-34207292bf2f",
   "metadata": {},
   "outputs": [
    {
     "data": {
      "text/plain": [
       "('optimal', 1.584962500721156, array([0.33333333, 0.33333333, 0.33333333]))"
      ]
     },
     "execution_count": 90,
     "metadata": {},
     "output_type": "execute_result"
    }
   ],
   "source": [
    "channel_capacity(N, K, A)"
   ]
  },
  {
   "cell_type": "markdown",
   "id": "972647a4-6003-4138-9240-b33fb4231aab",
   "metadata": {},
   "source": [
    "### test"
   ]
  },
  {
   "cell_type": "code",
   "execution_count": 80,
   "id": "a305d0a5-d61c-41b5-b1ca-586585821828",
   "metadata": {},
   "outputs": [],
   "source": [
    "px_value = np.array([1.0/3, 1.0/3, 1.0/3])"
   ]
  },
  {
   "cell_type": "code",
   "execution_count": 81,
   "id": "2743564c-3b73-45d4-9e92-dcbbce77b97e",
   "metadata": {},
   "outputs": [],
   "source": [
    "D, H, H_opt = run_dp(N, M, K, S, Phi)"
   ]
  },
  {
   "cell_type": "code",
   "execution_count": 83,
   "id": "11f761ee-de1e-4126-8a5d-3969ccefb077",
   "metadata": {
    "collapsed": true,
    "jupyter": {
     "outputs_hidden": true
    },
    "tags": []
   },
   "outputs": [
    {
     "data": {
      "text/plain": [
       "array([[  0.,   0.,   0.,   0.,   0.,   0.,   0.,   0.,   0.,   0.,   0.,\n",
       "          0.,   0.,   0.,   0.,   0.,   0.,   0.,   0.,   0.,   0.,   0.,\n",
       "          0.,   0.,   0.,   0.,   0.,   0.,   0.,   0.,   0.,   0.,   0.,\n",
       "          0.,   0.,   0.,   0.,   0.,   0.,   0.,   0.,   0.,   0.,   0.,\n",
       "          0.,   0.,   0.,   0.,   0.,   0.,   0.,   0.,   0.,   0.,   0.,\n",
       "          0.,   0.,   0.,   0.,   0.,   0.,   0.,   0.,   0.,   0.,   0.,\n",
       "          0.,   0.,   0.,   0.,   0.,   0.,   0.,   0.,   0.,   0.,   0.,\n",
       "          0.,   0.,   0.,   0.,   0.,   0.,   0.,   0.,   0.,   0.,   0.,\n",
       "          0.,   0.,   0.,   0.,   0.,   0.,   0.,   0.,   0.,   0.,   0.,\n",
       "          0.,   0.,   0.,   0.,   0.,   0.,   0.,   0.,   0.,   0.,   0.,\n",
       "          0.,   0.,   0.,   0.,   0.,   0.,   0.,   0.,   0.,   0.,   0.,\n",
       "          0.,   0.,   0.,   0.,   0.,   0.,   0.,   0.,   0.,   0.,   0.,\n",
       "          0.,   0.,   0.,   0.,   0.,   0.,   0.,   0.,   0.,   0.,   0.,\n",
       "          0.,   0.,   0.,   0.,   0.,   0.,   0.,   0.,   0.,   0.,   0.,\n",
       "          0.,   0.,   0.,   0.,   0.,   0.,   0.,   0.,   0.,   0.,   0.,\n",
       "          0.,   0.,   0.,   0.,   0.,   0.,   0.,   0.,   0.,   0.,   0.,\n",
       "          0.,   0.,   0.,   0.,   0.,   0.,   0.,   0.,   0.,   0.,   0.,\n",
       "          0.,   0.,   0.,   0.,   0.,   0.,   0.,   0.,   0.,   0.,   0.,\n",
       "          0.,   0.],\n",
       "       [  0.,   0.,   1.,   2.,   3.,   4.,   5.,   6.,   7.,   8.,   9.,\n",
       "         10.,  11.,  12.,  13.,  14.,  15.,  16.,  17.,  18.,  19.,  20.,\n",
       "         21.,  22.,  23.,  24.,  25.,  26.,  27.,  28.,  29.,  30.,  31.,\n",
       "         32.,  33.,  34.,  35.,  36.,  37.,  38.,  39.,  40.,  41.,  42.,\n",
       "         43.,  44.,  45.,  46.,  47.,  48.,  49.,  50.,  51.,  52.,  53.,\n",
       "         54.,  55.,  56.,  57.,  58.,  59.,  60.,  61.,  62.,  63.,  64.,\n",
       "         65.,  66.,  67.,  68.,  69.,  70.,  71.,  72.,  73.,  74.,  75.,\n",
       "         76.,  77.,  78.,  79.,  80.,  81.,  82.,  83.,  84.,  85.,  86.,\n",
       "         87.,  88.,  89.,  90.,  91.,  92.,  93.,  94.,  95.,  96.,  97.,\n",
       "         98.,  99., 100., 101., 102., 103., 104., 105., 106., 107., 108.,\n",
       "        109., 110., 111., 112., 113., 114., 115., 116., 117., 118., 119.,\n",
       "        120., 121., 122., 123., 124., 125., 126., 127., 128., 129., 130.,\n",
       "        131., 132., 133., 134., 135., 136., 137., 138., 139., 140., 141.,\n",
       "        142., 143., 144., 145., 146., 147., 148., 149., 150., 151., 152.,\n",
       "        153., 154., 155., 156., 157., 158., 159., 160., 161., 162., 163.,\n",
       "        164., 165., 166., 167., 168., 169., 170., 171., 172., 173., 174.,\n",
       "        175., 176., 177., 178., 179., 180., 181., 182., 183., 184., 185.,\n",
       "        186., 187., 188., 189., 190., 191., 192., 193., 194., 195., 196.,\n",
       "        197., 198.],\n",
       "       [  0.,   0.,   1.,   2.,   3.,   4.,   5.,   6.,   7.,   8.,   9.,\n",
       "         10.,  11.,  12.,  13.,  14.,  15.,  16.,  17.,  18.,  19.,  20.,\n",
       "         21.,  22.,  23.,  24.,  25.,  26.,  27.,  28.,  29.,  30.,  31.,\n",
       "         32.,  33.,  34.,  35.,  36.,  37.,  38.,  39.,  40.,  41.,  42.,\n",
       "         43.,  44.,  45.,  46.,  47.,  48.,  49.,  50.,  51.,  52.,  53.,\n",
       "         53.,  53.,  53.,  53.,  53.,  53.,  53.,  53.,  53.,  54.,  54.,\n",
       "         54.,  54.,  54.,  54.,  55.,  55.,  55.,  55.,  56.,  56.,  56.,\n",
       "         56.,  57.,  57.,  57.,  58.,  58.,  58.,  59.,  59.,  59.,  60.,\n",
       "         60.,  60.,  61.,  61.,  61.,  62.,  62.,  62.,  63.,  63.,  63.,\n",
       "         64.,  64.,  65.,  65.,  65.,  66.,  66.,  67.,  67.,  67.,  68.,\n",
       "         68.,  68.,  69.,  69.,  70.,  70.,  70.,  71.,  71.,  72.,  72.,\n",
       "         73.,  73.,  73.,  74.,  74.,  75.,  75.,  75.,  76.,  76.,  77.,\n",
       "         77.,  77.,  78.,  78.,  79.,  79.,  79.,  80.,  80.,  81.,  81.,\n",
       "         81.,  82.,  82.,  82.,  83.,  83.,  84.,  84.,  84.,  85.,  85.,\n",
       "         85.,  86.,  86.,  87.,  87.,  87.,  88.,  88.,  88.,  89.,  89.,\n",
       "         89.,  90.,  90.,  91.,  91.,  91.,  92.,  92.,  92.,  93.,  93.,\n",
       "         93.,  93.,  94.,  94.,  94.,  95.,  95.,  95.,  96.,  96.,  96.,\n",
       "         97.,  97.,  97.,  97.,  98.,  98.,  98.,  98.,  99.,  99.,  99.,\n",
       "         99., 100.]])"
      ]
     },
     "execution_count": 83,
     "metadata": {},
     "output_type": "execute_result"
    }
   ],
   "source": [
    "H"
   ]
  },
  {
   "cell_type": "code",
   "execution_count": 84,
   "id": "aea2ba06-470f-4c96-8089-46f8cafc5a28",
   "metadata": {},
   "outputs": [
    {
     "data": {
      "text/plain": [
       "[99.0, 100.0]"
      ]
     },
     "execution_count": 84,
     "metadata": {},
     "output_type": "execute_result"
    }
   ],
   "source": [
    "H_opt"
   ]
  },
  {
   "cell_type": "markdown",
   "id": "805210d1-3eaf-4a08-94ae-ddd7c425188c",
   "metadata": {},
   "source": [
    "## alternating"
   ]
  },
  {
   "cell_type": "code",
   "execution_count": 60,
   "id": "d911b59f-1812-4f12-b131-c33b53f2010d",
   "metadata": {},
   "outputs": [
    {
     "name": "stderr",
     "output_type": "stream",
     "text": [
      "  1%|▍                                       | 1/100 [05:21<8:50:17, 321.39s/it]"
     ]
    },
    {
     "name": "stdout",
     "output_type": "stream",
     "text": [
      "iter 0 - I(X;Y)=2.981629 - took 321.39s\n",
      "threshold =  [-0.6999999999999993, -0.5999999999999996, 4.0]\n",
      "H_opt =  [73.0, 74.0, 120.0]\n",
      "px =  [4.79280467e-01 6.40236081e-10 4.92278394e-10 5.20719532e-01]\n"
     ]
    },
    {
     "name": "stderr",
     "output_type": "stream",
     "text": [
      "  2%|▊                                       | 2/100 [10:41<8:43:32, 320.54s/it]"
     ]
    },
    {
     "name": "stdout",
     "output_type": "stream",
     "text": [
      "iter 1 - I(X;Y)=2.988892 - took 319.94s\n",
      "threshold =  [-0.5999999999999996, -0.5, 4.100000000000001]\n",
      "H_opt =  [74.0, 75.0, 121.0]\n",
      "px =  [4.97742142e-01 2.09813968e-08 2.10434996e-08 5.02257816e-01]\n"
     ]
    },
    {
     "name": "stderr",
     "output_type": "stream",
     "text": [
      "  3%|█▏                                      | 3/100 [15:48<8:28:27, 314.51s/it]"
     ]
    },
    {
     "name": "stdout",
     "output_type": "stream",
     "text": [
      "iter 2 - I(X;Y)=2.988954 - took 307.34s\n",
      "threshold =  [-0.5999999999999996, -0.5, 4.100000000000001]\n",
      "H_opt =  [74.0, 75.0, 121.0]\n",
      "px =  [4.98369779e-01 1.76745245e-08 1.77115076e-08 5.01630186e-01]\n"
     ]
    },
    {
     "name": "stderr",
     "output_type": "stream",
     "text": [
      "  3%|█▏                                      | 3/100 [18:10<9:47:43, 363.54s/it]\n"
     ]
    },
    {
     "ename": "KeyboardInterrupt",
     "evalue": "",
     "output_type": "error",
     "traceback": [
      "\u001b[0;31m---------------------------------------------------------------------------\u001b[0m",
      "\u001b[0;31mKeyboardInterrupt\u001b[0m                         Traceback (most recent call last)",
      "Input \u001b[0;32mIn [60]\u001b[0m, in \u001b[0;36m<cell line: 5>\u001b[0;34m()\u001b[0m\n\u001b[1;32m     17\u001b[0m tmp \u001b[38;5;241m=\u001b[39m []\n\u001b[1;32m     18\u001b[0m \u001b[38;5;28;01mfor\u001b[39;00m q \u001b[38;5;129;01min\u001b[39;00m \u001b[38;5;28mrange\u001b[39m(j):\n\u001b[0;32m---> 19\u001b[0m     tmp\u001b[38;5;241m.\u001b[39mappend(\u001b[43mcalculate_D\u001b[49m\u001b[43m(\u001b[49m\u001b[43mpx_value\u001b[49m\u001b[43m,\u001b[49m\u001b[43m \u001b[49m\u001b[43mi\u001b[49m\u001b[43m,\u001b[49m\u001b[43m \u001b[49m\u001b[43mq\u001b[49m\u001b[43m,\u001b[49m\u001b[43m \u001b[49m\u001b[43mk\u001b[49m\u001b[38;5;241;43m-\u001b[39;49m\u001b[38;5;241;43m1\u001b[39;49m\u001b[43m,\u001b[49m\u001b[43m \u001b[49m\u001b[43mS\u001b[49m\u001b[43m,\u001b[49m\u001b[43m \u001b[49m\u001b[43mN\u001b[49m\u001b[43m,\u001b[49m\u001b[43m \u001b[49m\u001b[43mPhi\u001b[49m\u001b[43m)\u001b[49m \u001b[38;5;241m+\u001b[39m\\\n\u001b[1;32m     20\u001b[0m                 calculate_D(px_value, q\u001b[38;5;241m+\u001b[39m\u001b[38;5;241m1\u001b[39m, j, \u001b[38;5;241m1\u001b[39m, S, N, Phi))\n\u001b[1;32m     21\u001b[0m \u001b[38;5;28;01mif\u001b[39;00m \u001b[38;5;28mlen\u001b[39m(tmp) \u001b[38;5;241m>\u001b[39m \u001b[38;5;241m0\u001b[39m:\n\u001b[1;32m     22\u001b[0m     D[i, j, k] \u001b[38;5;241m=\u001b[39m np\u001b[38;5;241m.\u001b[39mmin(tmp)\n",
      "Input \u001b[0;32mIn [10]\u001b[0m, in \u001b[0;36mcalculate_D\u001b[0;34m(px, i, j, k, S, N, Phi)\u001b[0m\n\u001b[1;32m     10\u001b[0m \u001b[38;5;28;01mfor\u001b[39;00m j \u001b[38;5;129;01min\u001b[39;00m \u001b[38;5;28mrange\u001b[39m(N):\n\u001b[1;32m     11\u001b[0m     \u001b[38;5;28;01mfor\u001b[39;00m i \u001b[38;5;129;01min\u001b[39;00m \u001b[38;5;28mrange\u001b[39m(k):\n\u001b[0;32m---> 12\u001b[0m         Ax[i, j] \u001b[38;5;241m=\u001b[39m \u001b[43mPhi\u001b[49m\u001b[43m[\u001b[49m\u001b[43mj\u001b[49m\u001b[43m]\u001b[49m\u001b[38;5;241;43m.\u001b[39;49m\u001b[43mcdf\u001b[49m\u001b[43m(\u001b[49m\u001b[43mH_thres\u001b[49m\u001b[43m[\u001b[49m\u001b[43mi\u001b[49m\u001b[38;5;241;43m+\u001b[39;49m\u001b[38;5;241;43m1\u001b[39;49m\u001b[43m]\u001b[49m\u001b[43m)\u001b[49m \u001b[38;5;241m-\u001b[39m Phi[j]\u001b[38;5;241m.\u001b[39mcdf(H_thres[i])\n\u001b[1;32m     14\u001b[0m Ay \u001b[38;5;241m=\u001b[39m np\u001b[38;5;241m.\u001b[39mzeros((N, k))\n\u001b[1;32m     15\u001b[0m \u001b[38;5;28;01mfor\u001b[39;00m j \u001b[38;5;129;01min\u001b[39;00m \u001b[38;5;28mrange\u001b[39m(N):\n",
      "File \u001b[0;32m~/miniconda3/envs/tf2/lib/python3.10/site-packages/scipy/stats/_distn_infrastructure.py:453\u001b[0m, in \u001b[0;36mrv_frozen.cdf\u001b[0;34m(self, x)\u001b[0m\n\u001b[1;32m    452\u001b[0m \u001b[38;5;28;01mdef\u001b[39;00m \u001b[38;5;21mcdf\u001b[39m(\u001b[38;5;28mself\u001b[39m, x):\n\u001b[0;32m--> 453\u001b[0m     \u001b[38;5;28;01mreturn\u001b[39;00m \u001b[38;5;28;43mself\u001b[39;49m\u001b[38;5;241;43m.\u001b[39;49m\u001b[43mdist\u001b[49m\u001b[38;5;241;43m.\u001b[39;49m\u001b[43mcdf\u001b[49m\u001b[43m(\u001b[49m\u001b[43mx\u001b[49m\u001b[43m,\u001b[49m\u001b[43m \u001b[49m\u001b[38;5;241;43m*\u001b[39;49m\u001b[38;5;28;43mself\u001b[39;49m\u001b[38;5;241;43m.\u001b[39;49m\u001b[43margs\u001b[49m\u001b[43m,\u001b[49m\u001b[43m \u001b[49m\u001b[38;5;241;43m*\u001b[39;49m\u001b[38;5;241;43m*\u001b[39;49m\u001b[38;5;28;43mself\u001b[39;49m\u001b[38;5;241;43m.\u001b[39;49m\u001b[43mkwds\u001b[49m\u001b[43m)\u001b[49m\n",
      "File \u001b[0;32m~/miniconda3/envs/tf2/lib/python3.10/site-packages/scipy/stats/_distn_infrastructure.py:2170\u001b[0m, in \u001b[0;36mrv_continuous.cdf\u001b[0;34m(self, x, *args, **kwds)\u001b[0m\n\u001b[1;32m   2168\u001b[0m x \u001b[38;5;241m=\u001b[39m np\u001b[38;5;241m.\u001b[39masarray((x \u001b[38;5;241m-\u001b[39m loc)\u001b[38;5;241m/\u001b[39mscale, dtype\u001b[38;5;241m=\u001b[39mdtyp)\n\u001b[1;32m   2169\u001b[0m cond0 \u001b[38;5;241m=\u001b[39m \u001b[38;5;28mself\u001b[39m\u001b[38;5;241m.\u001b[39m_argcheck(\u001b[38;5;241m*\u001b[39margs) \u001b[38;5;241m&\u001b[39m (scale \u001b[38;5;241m>\u001b[39m \u001b[38;5;241m0\u001b[39m)\n\u001b[0;32m-> 2170\u001b[0m cond1 \u001b[38;5;241m=\u001b[39m \u001b[38;5;28;43mself\u001b[39;49m\u001b[38;5;241;43m.\u001b[39;49m\u001b[43m_open_support_mask\u001b[49m\u001b[43m(\u001b[49m\u001b[43mx\u001b[49m\u001b[43m,\u001b[49m\u001b[43m \u001b[49m\u001b[38;5;241;43m*\u001b[39;49m\u001b[43margs\u001b[49m\u001b[43m)\u001b[49m \u001b[38;5;241m&\u001b[39m (scale \u001b[38;5;241m>\u001b[39m \u001b[38;5;241m0\u001b[39m)\n\u001b[1;32m   2171\u001b[0m cond2 \u001b[38;5;241m=\u001b[39m (x \u001b[38;5;241m>\u001b[39m\u001b[38;5;241m=\u001b[39m np\u001b[38;5;241m.\u001b[39masarray(_b)) \u001b[38;5;241m&\u001b[39m cond0\n\u001b[1;32m   2172\u001b[0m cond \u001b[38;5;241m=\u001b[39m cond0 \u001b[38;5;241m&\u001b[39m cond1\n",
      "File \u001b[0;32m~/miniconda3/envs/tf2/lib/python3.10/site-packages/scipy/stats/_distn_infrastructure.py:993\u001b[0m, in \u001b[0;36mrv_generic._open_support_mask\u001b[0;34m(self, x, *args)\u001b[0m\n\u001b[1;32m    991\u001b[0m \u001b[38;5;28;01mdef\u001b[39;00m \u001b[38;5;21m_open_support_mask\u001b[39m(\u001b[38;5;28mself\u001b[39m, x, \u001b[38;5;241m*\u001b[39margs):\n\u001b[1;32m    992\u001b[0m     a, b \u001b[38;5;241m=\u001b[39m \u001b[38;5;28mself\u001b[39m\u001b[38;5;241m.\u001b[39m_get_support(\u001b[38;5;241m*\u001b[39margs)\n\u001b[0;32m--> 993\u001b[0m     \u001b[38;5;28;01mwith\u001b[39;00m np\u001b[38;5;241m.\u001b[39merrstate(invalid\u001b[38;5;241m=\u001b[39m\u001b[38;5;124m'\u001b[39m\u001b[38;5;124mignore\u001b[39m\u001b[38;5;124m'\u001b[39m):\n\u001b[1;32m    994\u001b[0m         \u001b[38;5;28;01mreturn\u001b[39;00m (a \u001b[38;5;241m<\u001b[39m x) \u001b[38;5;241m&\u001b[39m (x \u001b[38;5;241m<\u001b[39m b)\n",
      "File \u001b[0;32m~/miniconda3/envs/tf2/lib/python3.10/site-packages/numpy/core/_ufunc_config.py:435\u001b[0m, in \u001b[0;36merrstate.__exit__\u001b[0;34m(self, *exc_info)\u001b[0m\n\u001b[1;32m    434\u001b[0m \u001b[38;5;28;01mdef\u001b[39;00m \u001b[38;5;21m__exit__\u001b[39m(\u001b[38;5;28mself\u001b[39m, \u001b[38;5;241m*\u001b[39mexc_info):\n\u001b[0;32m--> 435\u001b[0m     \u001b[43mseterr\u001b[49m\u001b[43m(\u001b[49m\u001b[38;5;241;43m*\u001b[39;49m\u001b[38;5;241;43m*\u001b[39;49m\u001b[38;5;28;43mself\u001b[39;49m\u001b[38;5;241;43m.\u001b[39;49m\u001b[43moldstate\u001b[49m\u001b[43m)\u001b[49m\n\u001b[1;32m    436\u001b[0m     \u001b[38;5;28;01mif\u001b[39;00m \u001b[38;5;28mself\u001b[39m\u001b[38;5;241m.\u001b[39mcall \u001b[38;5;129;01mis\u001b[39;00m \u001b[38;5;129;01mnot\u001b[39;00m _Unspecified:\n\u001b[1;32m    437\u001b[0m         seterrcall(\u001b[38;5;28mself\u001b[39m\u001b[38;5;241m.\u001b[39moldcall)\n",
      "File \u001b[0;32m~/miniconda3/envs/tf2/lib/python3.10/site-packages/numpy/core/_ufunc_config.py:32\u001b[0m, in \u001b[0;36mseterr\u001b[0;34m(all, divide, over, under, invalid)\u001b[0m\n\u001b[1;32m     22\u001b[0m _errdict \u001b[38;5;241m=\u001b[39m {\u001b[38;5;124m\"\u001b[39m\u001b[38;5;124mignore\u001b[39m\u001b[38;5;124m\"\u001b[39m: ERR_IGNORE,\n\u001b[1;32m     23\u001b[0m             \u001b[38;5;124m\"\u001b[39m\u001b[38;5;124mwarn\u001b[39m\u001b[38;5;124m\"\u001b[39m: ERR_WARN,\n\u001b[1;32m     24\u001b[0m             \u001b[38;5;124m\"\u001b[39m\u001b[38;5;124mraise\u001b[39m\u001b[38;5;124m\"\u001b[39m: ERR_RAISE,\n\u001b[1;32m     25\u001b[0m             \u001b[38;5;124m\"\u001b[39m\u001b[38;5;124mcall\u001b[39m\u001b[38;5;124m\"\u001b[39m: ERR_CALL,\n\u001b[1;32m     26\u001b[0m             \u001b[38;5;124m\"\u001b[39m\u001b[38;5;124mprint\u001b[39m\u001b[38;5;124m\"\u001b[39m: ERR_PRINT,\n\u001b[1;32m     27\u001b[0m             \u001b[38;5;124m\"\u001b[39m\u001b[38;5;124mlog\u001b[39m\u001b[38;5;124m\"\u001b[39m: ERR_LOG}\n\u001b[1;32m     29\u001b[0m _errdict_rev \u001b[38;5;241m=\u001b[39m {value: key \u001b[38;5;28;01mfor\u001b[39;00m key, value \u001b[38;5;129;01min\u001b[39;00m _errdict\u001b[38;5;241m.\u001b[39mitems()}\n\u001b[0;32m---> 32\u001b[0m \u001b[38;5;129m@set_module\u001b[39m(\u001b[38;5;124m'\u001b[39m\u001b[38;5;124mnumpy\u001b[39m\u001b[38;5;124m'\u001b[39m)\n\u001b[1;32m     33\u001b[0m \u001b[38;5;28;01mdef\u001b[39;00m \u001b[38;5;21mseterr\u001b[39m(\u001b[38;5;28mall\u001b[39m\u001b[38;5;241m=\u001b[39m\u001b[38;5;28;01mNone\u001b[39;00m, divide\u001b[38;5;241m=\u001b[39m\u001b[38;5;28;01mNone\u001b[39;00m, over\u001b[38;5;241m=\u001b[39m\u001b[38;5;28;01mNone\u001b[39;00m, under\u001b[38;5;241m=\u001b[39m\u001b[38;5;28;01mNone\u001b[39;00m, invalid\u001b[38;5;241m=\u001b[39m\u001b[38;5;28;01mNone\u001b[39;00m):\n\u001b[1;32m     34\u001b[0m     \u001b[38;5;124;03m\"\"\"\u001b[39;00m\n\u001b[1;32m     35\u001b[0m \u001b[38;5;124;03m    Set how floating-point errors are handled.\u001b[39;00m\n\u001b[1;32m     36\u001b[0m \n\u001b[0;32m   (...)\u001b[0m\n\u001b[1;32m    106\u001b[0m \n\u001b[1;32m    107\u001b[0m \u001b[38;5;124;03m    \"\"\"\u001b[39;00m\n\u001b[1;32m    109\u001b[0m     pyvals \u001b[38;5;241m=\u001b[39m umath\u001b[38;5;241m.\u001b[39mgeterrobj()\n",
      "\u001b[0;31mKeyboardInterrupt\u001b[0m: "
     ]
    }
   ],
   "source": [
    "I_list = []\n",
    "px_list = []\n",
    "h_list = []\n",
    "\n",
    "for iteration in tqdm.tqdm(range(100)):\n",
    "    start = time.time()\n",
    "    # step 1\n",
    "    status, obj_value, px_value = channel_capacity(N, K, A)\n",
    "\n",
    "    # step 2\n",
    "    D = np.zeros((N, M, K))\n",
    "    H = np.zeros((K, M))\n",
    "\n",
    "    for k in range(1, K):\n",
    "        for i in range(N):\n",
    "            for j in range(M):\n",
    "                tmp = []\n",
    "                for q in range(j):\n",
    "                    tmp.append(calculate_D(px_value, i, q, k-1, S, N, Phi) +\\\n",
    "                                calculate_D(px_value, q+1, j, 1, S, N, Phi))\n",
    "                if len(tmp) > 0:\n",
    "                    D[i, j, k] = np.min(tmp)\n",
    "                    H[k, j] = np.argmin(tmp)\n",
    "                else:\n",
    "                    D[i, j, k] = 0\n",
    "                    H[k, j] = 0\n",
    "\n",
    "    H_K = M-1\n",
    "    H_opt = []\n",
    "    for i in np.arange(K-1)[::-1]:\n",
    "        H_ = H[i+1, int(H_K)]\n",
    "        H_opt.append(H_)\n",
    "        H_K = H_\n",
    "\n",
    "    H_opt = H_opt[::-1]\n",
    "\n",
    "    # recompute A\n",
    "    thres = [S[int(l)] for l in H_opt]\n",
    "    Hx = [S[0]] + thres + [S[-1]]\n",
    "\n",
    "    A = np.zeros((K, N))\n",
    "\n",
    "    for j in range(N):\n",
    "        for i in range(K):\n",
    "            A[i, j] = Phi[j].cdf(Hx[i+1]) - Phi[j].cdf(Hx[i])\n",
    "\n",
    "    # calculate I(X;Y)\n",
    "    py = np.matmul(A, px_value)\n",
    "\n",
    "    # I is the mutual information between x and y\n",
    "    c = np.sum(np.array((xlogy(A, A) / math.log(2))), axis=0)\n",
    "    I = -np.sum(py*c) - np.sum(np.array((xlogy(py, py) / math.log(2))), axis=0)\n",
    "    stop = time.time()\n",
    "    print(\"iter {} - I(X;Y)={:.6f} - took {:.2f}s\".format(iteration, I, stop-start))\n",
    "    print(\"threshold = \", thres)\n",
    "    print(\"H_opt = \", H_opt)\n",
    "    print(\"px = \", px_value)\n",
    "    \n",
    "    I_list.append(I)\n",
    "    h_list.append(H_opt)\n",
    "    px_list.append(px_value)"
   ]
  },
  {
   "cell_type": "code",
   "execution_count": null,
   "id": "988aef32-6da5-4044-a65e-a3dc02eec102",
   "metadata": {},
   "outputs": [],
   "source": []
  }
 ],
 "metadata": {
  "kernelspec": {
   "display_name": "tf2",
   "language": "python",
   "name": "tf2"
  },
  "language_info": {
   "codemirror_mode": {
    "name": "ipython",
    "version": 3
   },
   "file_extension": ".py",
   "mimetype": "text/x-python",
   "name": "python",
   "nbconvert_exporter": "python",
   "pygments_lexer": "ipython3",
   "version": "3.10.4"
  }
 },
 "nbformat": 4,
 "nbformat_minor": 5
}

{
 "cells": [
  {
   "cell_type": "code",
   "execution_count": 1,
   "id": "27bf012a-677d-4c42-9def-434ee3d77d6a",
   "metadata": {},
   "outputs": [],
   "source": [
    "import cvxpy as cp\n",
    "import numpy as np\n",
    "import tqdm\n",
    "import scipy\n",
    "import math\n",
    "from scipy.special import xlogy\n",
    "import time"
   ]
  },
  {
   "cell_type": "code",
   "execution_count": 2,
   "id": "1230a11c-d461-4600-b2e0-1fd831d1158d",
   "metadata": {
    "tags": []
   },
   "outputs": [],
   "source": [
    "def channel_capacity(n, m, P, sum_x=1):\n",
    "    '''\n",
    "    Boyd and Vandenberghe, Convex Optimization, exercise 4.57 page 207\n",
    "    Capacity of a communication channel.\n",
    "\n",
    "    We consider a communication channel, with input X(t)∈{1,..,n} and\n",
    "    output Y(t)∈{1,...,m}, for t=1,2,... .The relation between the\n",
    "    input and output is given statistically:\n",
    "    p_(i,j) = ℙ(Y(t)=i|X(t)=j), i=1,..,m  j=1,...,n\n",
    "\n",
    "    The matrix P ∈ ℝ^(m*n) is called the channel transition matrix, and\n",
    "    the channel is called a discrete memoryless channel. Assuming X has a\n",
    "    probability distribution denoted x ∈ ℝ^n, i.e.,\n",
    "    x_j = ℙ(X=j), j=1,...,n\n",
    "\n",
    "    The mutual information between X and Y is given by\n",
    "    ∑(∑(x_j p_(i,j)log_2(p_(i,j)/∑(x_k p_(i,k)))))\n",
    "    Then channel capacity C is given by\n",
    "    C = sup I(X;Y).\n",
    "    With a variable change of y = Px this becomes\n",
    "    I(X;Y)=  c^T x - ∑(y_i log_2 y_i)\n",
    "    where c_j = ∑(p_(i,j)log_2(p_(i,j)))\n",
    "    '''\n",
    "\n",
    "    # n is the number of different input values\n",
    "    # m is the number of different output values\n",
    "    if n*m == 0:\n",
    "        print('The range of both input and output values must be greater than zero')\n",
    "        return 'failed', np.nan, np.nan\n",
    "\n",
    "    # x is probability distribution of the input signal X(t)\n",
    "    x = cp.Variable(shape=n)\n",
    "\n",
    "    # y is the probability distribution of the output signal Y(t)\n",
    "    # P is the channel transition matrix\n",
    "    y = P@x\n",
    "\n",
    "    # I is the mutual information between x and y\n",
    "    c = np.sum(np.array((xlogy(P, P) / math.log(2))), axis=0)\n",
    "    I = c@x + cp.sum(cp.entr(y) / math.log(2))\n",
    "\n",
    "    # Channel capacity maximised by maximising the mutual information\n",
    "    obj = cp.Maximize(I)\n",
    "    constraints = [cp.sum(x) == sum_x,x >= 0]\n",
    "\n",
    "    # Form and solve problem\n",
    "    prob = cp.Problem(obj,constraints)\n",
    "    prob.solve()\n",
    "    if prob.status=='optimal':\n",
    "        return prob.status, prob.value, x.value\n",
    "    else:\n",
    "        return prob.status, np.nan, np.nan"
   ]
  },
  {
   "cell_type": "code",
   "execution_count": 621,
   "id": "64360806-0992-46b5-a54b-3bc77357e99c",
   "metadata": {},
   "outputs": [],
   "source": [
    "def calculate_base_D(px, H_thres, k, S, N, Phi):\n",
    "    # H_thres = np.linspace(S[i], S[j], k+1)\n",
    "    # H_thres[0] = S[0]\n",
    "    # H_thres[-1] = S[-1]\n",
    "    \n",
    "    Ax = np.zeros((k, N))\n",
    "    for m in range(N):\n",
    "        for n in range(k):\n",
    "            Ax[n, m] = Phi[m].cdf(H_thres[n+1]) - Phi[m].cdf(H_thres[n])\n",
    "\n",
    "    Ay = np.zeros((N, k))\n",
    "    for m in range(N):\n",
    "        for n in range(k):\n",
    "            if np.round(np.sum(px*Ax[n,:]), 10) == 0:\n",
    "                Ay[m, n] = 0\n",
    "            else:\n",
    "                Ay[m, n] = px[m]*Ax[n, m]/np.sum(px*Ax[n,:])\n",
    "\n",
    "    py = np.matmul(Ax, px)\n",
    "    c = np.sum(np.array((xlogy(Ay, Ay) / math.log(2))), axis=0)\n",
    "    H_xy = -np.sum(py*c)\n",
    "    \n",
    "    return H_xy"
   ]
  },
  {
   "cell_type": "code",
   "execution_count": 4,
   "id": "d0adc075-10d3-4be8-b1d3-01796aa45e35",
   "metadata": {},
   "outputs": [],
   "source": [
    "def run_dp(px, N, M, K, S, Phi):\n",
    "    D = np.zeros((M, M, K))\n",
    "    H = np.zeros((K, M))\n",
    "\n",
    "    for k in range(K):\n",
    "        for j in tqdm.tqdm(range(M)):\n",
    "            for i in range(j):\n",
    "                tmp = []\n",
    "                for q in range(j):\n",
    "                    tmp.append(calculate_D(px, i, q, k-1, S, N, Phi) +\\\n",
    "                                           calculate_D(px, q+1, j, 1, S, N, Phi))\n",
    "                D[i, j, k] = np.min(tmp)\n",
    "                H[k, j] = np.argmin(tmp)\n",
    "    H_K = M-1\n",
    "    H_opt = []\n",
    "    for i in np.arange(K-1)[::-1]:\n",
    "        H_ = H[i+1, int(H_K)]\n",
    "        H_opt.append(H_)\n",
    "        H_K = H_\n",
    "\n",
    "    H_opt = H_opt[::-1]\n",
    "    \n",
    "    return D, H, H_opt"
   ]
  },
  {
   "cell_type": "markdown",
   "id": "6c991861-7826-436c-8f4a-efd62502676e",
   "metadata": {},
   "source": [
    "### init"
   ]
  },
  {
   "cell_type": "code",
   "execution_count": 394,
   "id": "24eeac84-5841-4b5e-af41-b787c442b8fe",
   "metadata": {},
   "outputs": [
    {
     "data": {
      "text/plain": [
       "0.8"
      ]
     },
     "execution_count": 394,
     "metadata": {},
     "output_type": "execute_result"
    }
   ],
   "source": [
    "(end-start)/M"
   ]
  },
  {
   "cell_type": "code",
   "execution_count": 687,
   "id": "322db750-e32f-4ef3-9ad8-fdbc20bbea5c",
   "metadata": {},
   "outputs": [],
   "source": [
    "X = np.array([-3, 0, 3])\n",
    "N = len(X)\n",
    "M = 20\n",
    "start = -8\n",
    "end = 8\n",
    "step = (end-start)/M\n",
    "S = np.linspace(-8, 8, M+1)\n",
    "K = 3"
   ]
  },
  {
   "cell_type": "code",
   "execution_count": 688,
   "id": "90990370-c547-4762-829a-dff243c2b8c9",
   "metadata": {},
   "outputs": [],
   "source": [
    "sigma = 0.1\n",
    "U = X + np.random.randn(N)*sigma"
   ]
  },
  {
   "cell_type": "code",
   "execution_count": 689,
   "id": "5c053b9f-5762-436b-b605-e7793bc0aa0a",
   "metadata": {},
   "outputs": [],
   "source": [
    "Phi = [scipy.stats.norm(loc=X[i], scale=sigma) for i in range(N)]"
   ]
  },
  {
   "cell_type": "code",
   "execution_count": 690,
   "id": "fa71bb58-737f-4c24-af0e-2471edeca96a",
   "metadata": {},
   "outputs": [],
   "source": [
    "Hx = [S[0], -1.5, 1.5, S[-1]]\n",
    "\n",
    "A = np.zeros((K, N))\n",
    "\n",
    "for j in range(N):\n",
    "    for i in range(K):\n",
    "        A[i, j] = Phi[j].cdf(Hx[i+1]) - Phi[j].cdf(Hx[i])"
   ]
  },
  {
   "cell_type": "code",
   "execution_count": 692,
   "id": "539f0996-f19a-4e32-9c14-ddb3832b7e5d",
   "metadata": {},
   "outputs": [
    {
     "data": {
      "text/plain": [
       "21"
      ]
     },
     "execution_count": 692,
     "metadata": {},
     "output_type": "execute_result"
    }
   ],
   "source": [
    "len(S)"
   ]
  },
  {
   "cell_type": "code",
   "execution_count": 297,
   "id": "9d06a6c5-a30b-4675-ac14-e0a5e52c9514",
   "metadata": {},
   "outputs": [
    {
     "data": {
      "text/plain": [
       "('optimal', 1.584962500721156, array([0.33333333, 0.33333333, 0.33333333]))"
      ]
     },
     "execution_count": 297,
     "metadata": {},
     "output_type": "execute_result"
    }
   ],
   "source": [
    "channel_capacity(N, K, A)"
   ]
  },
  {
   "cell_type": "markdown",
   "id": "972647a4-6003-4138-9240-b33fb4231aab",
   "metadata": {},
   "source": [
    "### test"
   ]
  },
  {
   "cell_type": "code",
   "execution_count": 298,
   "id": "a305d0a5-d61c-41b5-b1ca-586585821828",
   "metadata": {},
   "outputs": [],
   "source": [
    "px = np.array([1.0/3, 1.0/3, 1.0/3])"
   ]
  },
  {
   "cell_type": "code",
   "execution_count": 699,
   "id": "321471b4-f6e5-4892-8548-5803abbfbe4b",
   "metadata": {},
   "outputs": [],
   "source": [
    "i=5\n",
    "j=6\n",
    "k=1\n",
    "\n",
    "H_thres = [S[i]]\n",
    "s = int(((S[j]-S[i])/k)/step) + 1\n",
    "for m in range(1, k):\n",
    "    H_thres.append(S[i+m*s])\n",
    "H_thres.append(S[j])\n",
    "\n",
    "Ax = np.zeros((k, N))\n",
    "for m in range(N):\n",
    "    for n in range(k):\n",
    "        Ax[n, m] = Phi[m].cdf(H_thres[n+1]) - Phi[m].cdf(H_thres[n])\n",
    "\n",
    "Ay = np.zeros((N, k))\n",
    "for m in range(N):\n",
    "    for n in range(k):\n",
    "        if np.round(np.sum(px*Ax[n,:]), 10) == 0:\n",
    "            Ay[m, n] = 0\n",
    "        else:\n",
    "            Ay[m, n] = px[m]*Ax[n, m]/np.sum(px*Ax[n,:])\n",
    "\n",
    "py = np.matmul(Ax, px)\n",
    "c = np.sum(np.array((-xlogy(Ay, Ay) / math.log(2))), axis=0)\n",
    "H_xy = np.sum(py*c)"
   ]
  },
  {
   "cell_type": "code",
   "execution_count": 684,
   "id": "71f8cc25-fd0f-46f9-827b-812230183f42",
   "metadata": {},
   "outputs": [
    {
     "data": {
      "text/plain": [
       "array([[2.27501319e-002, 5.45208060e-225, 0.00000000e+000]])"
      ]
     },
     "execution_count": 684,
     "metadata": {},
     "output_type": "execute_result"
    }
   ],
   "source": [
    "Ax"
   ]
  },
  {
   "cell_type": "code",
   "execution_count": 685,
   "id": "5543cd02-563f-41d1-9761-3671e6f1fa3b",
   "metadata": {},
   "outputs": [
    {
     "data": {
      "text/plain": [
       "array([0.00758338])"
      ]
     },
     "execution_count": 685,
     "metadata": {},
     "output_type": "execute_result"
    }
   ],
   "source": [
    "py"
   ]
  },
  {
   "cell_type": "code",
   "execution_count": 686,
   "id": "a4a52b05-8338-4caa-96d1-37433ee86892",
   "metadata": {},
   "outputs": [
    {
     "data": {
      "text/plain": [
       "1.3439906325146981e-222"
      ]
     },
     "execution_count": 686,
     "metadata": {},
     "output_type": "execute_result"
    }
   ],
   "source": [
    "H_xy"
   ]
  },
  {
   "cell_type": "code",
   "execution_count": 598,
   "id": "18c3f0e6-d412-40a2-aec1-1b46ff5a002e",
   "metadata": {},
   "outputs": [],
   "source": [
    "H_thres = [S[i]]\n",
    "s = int(((S[j]-S[i])/k)/step) + 1\n",
    "for m in range(1, k):\n",
    "    H_thres.append(S[i+m*s])\n",
    "H_thres.append(S[j])"
   ]
  },
  {
   "cell_type": "code",
   "execution_count": 619,
   "id": "16f0c519-7ccd-457d-a43e-80c89d8a57a5",
   "metadata": {},
   "outputs": [],
   "source": [
    "def get_partition_thres(i, j, k, step, S):\n",
    "    H_thres = [S[i]]\n",
    "    s = int(((S[j]-S[i])/(k))/step) + 1\n",
    "    for m in range(1, (k)):\n",
    "        H_thres.append(S[i+m*s])\n",
    "    H_thres.append(S[j])\n",
    "    return H_thres"
   ]
  },
  {
   "cell_type": "code",
   "execution_count": 620,
   "id": "03455507-786a-425c-8ce2-aa53bf8fc43c",
   "metadata": {},
   "outputs": [
    {
     "data": {
      "text/plain": [
       "[-7.2, -7.2]"
      ]
     },
     "execution_count": 620,
     "metadata": {},
     "output_type": "execute_result"
    }
   ],
   "source": [
    "get_partition_thres(1,1,1,step,S)"
   ]
  },
  {
   "cell_type": "code",
   "execution_count": 676,
   "id": "11f761ee-de1e-4126-8a5d-3969ccefb077",
   "metadata": {
    "tags": []
   },
   "outputs": [
    {
     "name": "stderr",
     "output_type": "stream",
     "text": [
      "100%|██████████████████████████████████████████████████████████████████████████████████| 20/20 [00:00<00:00, 145.45it/s]\n",
      "100%|███████████████████████████████████████████████████████████████████████████████████| 20/20 [00:01<00:00, 11.34it/s]\n",
      "100%|███████████████████████████████████████████████████████████████████████████████████| 20/20 [00:00<00:00, 20.46it/s]\n"
     ]
    }
   ],
   "source": [
    "D = np.ones((M+1, M+1, K+1))*np.inf\n",
    "H = np.ones((M+1, M+1, K+1))*np.nan\n",
    "\n",
    "D[:,0,:] = 0\n",
    "D[:,:,0] = 0\n",
    "\n",
    "for k in range(1, K+1):\n",
    "    for j in tqdm.tqdm(range(1, M+1)):\n",
    "        for i in range(j):\n",
    "            _, arg = calc_D(i,j,k, D)\n",
    "            H[i,j,k] = arg"
   ]
  },
  {
   "cell_type": "code",
   "execution_count": 669,
   "id": "b4b161ab-ab6f-4187-b896-191a706714ab",
   "metadata": {},
   "outputs": [],
   "source": [
    "def calc_D(i, j, k, data):\n",
    "    if data[i,j,k] == np.inf:\n",
    "        # print(i,j,k)\n",
    "        if k == 1 or j-i == 1:\n",
    "            # print(\"base\",i,j,k, calculate_base_D(px, [S[i], S[j]], 1, S, N, Phi))\n",
    "            return calculate_base_D(px, [S[i], S[j]], 1, S, N, Phi), 0\n",
    "        tmp = []\n",
    "        for q in range(i+1, j):\n",
    "            # print(q)\n",
    "            D1, _ = calc_D(i, q, k-1, data)\n",
    "            D2, _ = calc_D(q+1, j, 1, data)\n",
    "            tmp.append(D1 + D2)\n",
    "        data[i,j,k] = min(tmp)\n",
    "        return min(tmp), np.argmin(tmp)\n",
    "    return data[i,j,k], 0"
   ]
  },
  {
   "cell_type": "code",
   "execution_count": 655,
   "id": "5dab60d7-5e77-4419-9243-486a284a2e8f",
   "metadata": {},
   "outputs": [],
   "source": [
    "D = np.ones((M+1, M+1, K+1))*np.inf"
   ]
  },
  {
   "cell_type": "code",
   "execution_count": 693,
   "id": "4b229fc3-3b91-4fcd-ab1c-4417bf5473a2",
   "metadata": {},
   "outputs": [
    {
     "data": {
      "text/plain": [
       "3"
      ]
     },
     "execution_count": 693,
     "metadata": {},
     "output_type": "execute_result"
    }
   ],
   "source": [
    "K"
   ]
  },
  {
   "cell_type": "code",
   "execution_count": 704,
   "id": "1f3670cb-b9f0-48fb-b561-ea18fe0f2916",
   "metadata": {},
   "outputs": [],
   "source": [
    "P = []\n",
    "for i in range(len(S)-1):\n",
    "    P.append(calculate_base_D(px, [S[i], S[i+1]], 1, S, N, Phi))"
   ]
  },
  {
   "cell_type": "code",
   "execution_count": 695,
   "id": "6e643832-5f69-4da1-aca3-b8e5952e78a6",
   "metadata": {},
   "outputs": [],
   "source": [
    "M = np.zeros((len(S)-1, 3))"
   ]
  },
  {
   "cell_type": "code",
   "execution_count": 702,
   "id": "a9c94e58-d7fe-4f34-a53d-a35b2486f73a",
   "metadata": {},
   "outputs": [],
   "source": [
    "M[0,:] = calculate_base_D(px, [S[0], S[1]], 1, S, N, Phi)\n",
    "M[:,0] = calculate_base_D(px, [S[0], S[-1]], 1, S, N, Phi)"
   ]
  },
  {
   "cell_type": "code",
   "execution_count": 703,
   "id": "3a44f700-2b42-4c75-8cc8-c06e0c3b4ddb",
   "metadata": {},
   "outputs": [
    {
     "data": {
      "text/plain": [
       "array([[ 1.5849625, -0.       , -0.       ],\n",
       "       [ 1.5849625,  0.       ,  0.       ],\n",
       "       [ 1.5849625,  0.       ,  0.       ],\n",
       "       [ 1.5849625,  0.       ,  0.       ],\n",
       "       [ 1.5849625,  0.       ,  0.       ],\n",
       "       [ 1.5849625,  0.       ,  0.       ],\n",
       "       [ 1.5849625,  0.       ,  0.       ],\n",
       "       [ 1.5849625,  0.       ,  0.       ],\n",
       "       [ 1.5849625,  0.       ,  0.       ],\n",
       "       [ 1.5849625,  0.       ,  0.       ],\n",
       "       [ 1.5849625,  0.       ,  0.       ],\n",
       "       [ 1.5849625,  0.       ,  0.       ],\n",
       "       [ 1.5849625,  0.       ,  0.       ],\n",
       "       [ 1.5849625,  0.       ,  0.       ],\n",
       "       [ 1.5849625,  0.       ,  0.       ],\n",
       "       [ 1.5849625,  0.       ,  0.       ],\n",
       "       [ 1.5849625,  0.       ,  0.       ],\n",
       "       [ 1.5849625,  0.       ,  0.       ],\n",
       "       [ 1.5849625,  0.       ,  0.       ],\n",
       "       [ 1.5849625,  0.       ,  0.       ]])"
      ]
     },
     "execution_count": 703,
     "metadata": {},
     "output_type": "execute_result"
    }
   ],
   "source": [
    "for i in range(1, len(S)-1):\n",
    "    for j in range(1, K):\n",
    "        M[i,k] = np.inf\n",
    "        for q in range(i-1):\n",
    "            s = np.min(M[q, j-1], )"
   ]
  },
  {
   "cell_type": "code",
   "execution_count": 560,
   "id": "5fcf7ca0-7d0d-468c-8025-6285ae2fe8cc",
   "metadata": {},
   "outputs": [
    {
     "data": {
      "text/plain": [
       "0.666666666666678"
      ]
     },
     "execution_count": 560,
     "metadata": {},
     "output_type": "execute_result"
    }
   ],
   "source": [
    "calculate_D(px, 5, 15, 2, S, N, Phi)"
   ]
  },
  {
   "cell_type": "code",
   "execution_count": 561,
   "id": "4cca6660-4d44-49b8-911e-855306b1e879",
   "metadata": {},
   "outputs": [
    {
     "data": {
      "text/plain": [
       "1.584962500721156"
      ]
     },
     "execution_count": 561,
     "metadata": {},
     "output_type": "execute_result"
    }
   ],
   "source": [
    "calculate_D(px, 5, 15, 1, S, N, Phi)"
   ]
  },
  {
   "cell_type": "code",
   "execution_count": 617,
   "id": "88796e74-ea98-48ad-aa91-3ea23815afa8",
   "metadata": {},
   "outputs": [
    {
     "data": {
      "text/plain": [
       "[7.200000000000001, 8.0, 7.200000000000001]"
      ]
     },
     "execution_count": 617,
     "metadata": {},
     "output_type": "execute_result"
    }
   ],
   "source": [
    "thres"
   ]
  },
  {
   "cell_type": "code",
   "execution_count": 618,
   "id": "c63896c8-3ec4-4538-80c8-a799d18ee1c8",
   "metadata": {},
   "outputs": [
    {
     "ename": "IndexError",
     "evalue": "index 21 is out of bounds for axis 0 with size 21",
     "output_type": "error",
     "traceback": [
      "\u001b[0;31m---------------------------------------------------------------------------\u001b[0m",
      "\u001b[0;31mIndexError\u001b[0m                                Traceback (most recent call last)",
      "Input \u001b[0;32mIn [618]\u001b[0m, in \u001b[0;36m<cell line: 1>\u001b[0;34m()\u001b[0m\n\u001b[0;32m----> 1\u001b[0m \u001b[43mget_partition_thres\u001b[49m\u001b[43m(\u001b[49m\u001b[43mi\u001b[49m\u001b[43m,\u001b[49m\u001b[43m \u001b[49m\u001b[43mq\u001b[49m\u001b[43m,\u001b[49m\u001b[43m \u001b[49m\u001b[43mk\u001b[49m\u001b[38;5;241;43m-\u001b[39;49m\u001b[38;5;241;43m1\u001b[39;49m\u001b[43m,\u001b[49m\u001b[43m \u001b[49m\u001b[43mstep\u001b[49m\u001b[43m)\u001b[49m\n",
      "Input \u001b[0;32mIn [612]\u001b[0m, in \u001b[0;36mget_partition_thres\u001b[0;34m(i, j, k, step)\u001b[0m\n\u001b[1;32m      3\u001b[0m s \u001b[38;5;241m=\u001b[39m \u001b[38;5;28mint\u001b[39m(((S[j]\u001b[38;5;241m-\u001b[39mS[i])\u001b[38;5;241m/\u001b[39m(k))\u001b[38;5;241m/\u001b[39mstep) \u001b[38;5;241m+\u001b[39m \u001b[38;5;241m1\u001b[39m\n\u001b[1;32m      4\u001b[0m \u001b[38;5;28;01mfor\u001b[39;00m m \u001b[38;5;129;01min\u001b[39;00m \u001b[38;5;28mrange\u001b[39m(\u001b[38;5;241m1\u001b[39m, (k)):\n\u001b[0;32m----> 5\u001b[0m     H_thres\u001b[38;5;241m.\u001b[39mappend(\u001b[43mS\u001b[49m\u001b[43m[\u001b[49m\u001b[43mi\u001b[49m\u001b[38;5;241;43m+\u001b[39;49m\u001b[43mm\u001b[49m\u001b[38;5;241;43m*\u001b[39;49m\u001b[43ms\u001b[49m\u001b[43m]\u001b[49m)\n\u001b[1;32m      6\u001b[0m H_thres\u001b[38;5;241m.\u001b[39mappend(S[j])\n\u001b[1;32m      7\u001b[0m \u001b[38;5;28;01mreturn\u001b[39;00m H_thres\n",
      "\u001b[0;31mIndexError\u001b[0m: index 21 is out of bounds for axis 0 with size 21"
     ]
    }
   ],
   "source": [
    "get_partition_thres(i, q, k-1, step)"
   ]
  },
  {
   "cell_type": "code",
   "execution_count": 272,
   "id": "4f5523d0-3641-43a1-b195-4a145807caaf",
   "metadata": {},
   "outputs": [],
   "source": [
    "H_K1 = M\n",
    "H_opt = []\n",
    "for i in np.arange(1, K)[::-1]:\n",
    "    H_ = H[i+1, int(H_K1)]\n",
    "    H_opt.append(H_)\n",
    "    H_K1 = H_\n",
    "\n",
    "H_opt = H_opt[::-1]"
   ]
  },
  {
   "cell_type": "code",
   "execution_count": 278,
   "id": "96d81f46-309a-4377-8c54-ac2ff5539e98",
   "metadata": {},
   "outputs": [
    {
     "data": {
      "text/plain": [
       "1.584962500721156"
      ]
     },
     "execution_count": 278,
     "metadata": {},
     "output_type": "execute_result"
    }
   ],
   "source": [
    "D[1, M, K]"
   ]
  },
  {
   "cell_type": "code",
   "execution_count": 280,
   "id": "a015e6d5-e4be-4d93-9ded-0924a2aea17a",
   "metadata": {},
   "outputs": [
    {
     "data": {
      "text/plain": [
       "array([0.       , 1.5849625, 1.5849625, 1.5849625])"
      ]
     },
     "execution_count": 280,
     "metadata": {},
     "output_type": "execute_result"
    }
   ],
   "source": [
    "D[1,M,:]"
   ]
  },
  {
   "cell_type": "code",
   "execution_count": 228,
   "id": "63dac333-d344-4fe9-93fb-3a40a69b9c38",
   "metadata": {},
   "outputs": [
    {
     "ename": "ValueError",
     "evalue": "cannot convert float NaN to integer",
     "output_type": "error",
     "traceback": [
      "\u001b[0;31m---------------------------------------------------------------------------\u001b[0m",
      "\u001b[0;31mValueError\u001b[0m                                Traceback (most recent call last)",
      "Input \u001b[0;32mIn [228]\u001b[0m, in \u001b[0;36m<cell line: 1>\u001b[0;34m()\u001b[0m\n\u001b[0;32m----> 1\u001b[0m [S[\u001b[38;5;28mint\u001b[39m(l)] \u001b[38;5;28;01mfor\u001b[39;00m l \u001b[38;5;129;01min\u001b[39;00m H_opt]\n",
      "Input \u001b[0;32mIn [228]\u001b[0m, in \u001b[0;36m<listcomp>\u001b[0;34m(.0)\u001b[0m\n\u001b[0;32m----> 1\u001b[0m [S[\u001b[38;5;28;43mint\u001b[39;49m\u001b[43m(\u001b[49m\u001b[43ml\u001b[49m\u001b[43m)\u001b[49m] \u001b[38;5;28;01mfor\u001b[39;00m l \u001b[38;5;129;01min\u001b[39;00m H_opt]\n",
      "\u001b[0;31mValueError\u001b[0m: cannot convert float NaN to integer"
     ]
    }
   ],
   "source": [
    "[S[int(l)] for l in H_opt]"
   ]
  },
  {
   "cell_type": "code",
   "execution_count": 307,
   "id": "edbf6664-1ca7-4273-ae6d-40074bd6ad06",
   "metadata": {},
   "outputs": [
    {
     "data": {
      "text/plain": [
       "array([-8. , -7.2, -6.4, -5.6, -4.8, -4. , -3.2, -2.4, -1.6, -0.8,  0. ,\n",
       "        0.8,  1.6,  2.4,  3.2,  4. ,  4.8,  5.6,  6.4,  7.2,  8. ])"
      ]
     },
     "execution_count": 307,
     "metadata": {},
     "output_type": "execute_result"
    }
   ],
   "source": [
    "S"
   ]
  },
  {
   "cell_type": "markdown",
   "id": "805210d1-3eaf-4a08-94ae-ddd7c425188c",
   "metadata": {},
   "source": [
    "## alternating"
   ]
  },
  {
   "cell_type": "code",
   "execution_count": 60,
   "id": "d911b59f-1812-4f12-b131-c33b53f2010d",
   "metadata": {},
   "outputs": [
    {
     "name": "stderr",
     "output_type": "stream",
     "text": [
      "  1%|▍                                       | 1/100 [05:21<8:50:17, 321.39s/it]"
     ]
    },
    {
     "name": "stdout",
     "output_type": "stream",
     "text": [
      "iter 0 - I(X;Y)=2.981629 - took 321.39s\n",
      "threshold =  [-0.6999999999999993, -0.5999999999999996, 4.0]\n",
      "H_opt =  [73.0, 74.0, 120.0]\n",
      "px =  [4.79280467e-01 6.40236081e-10 4.92278394e-10 5.20719532e-01]\n"
     ]
    },
    {
     "name": "stderr",
     "output_type": "stream",
     "text": [
      "  2%|▊                                       | 2/100 [10:41<8:43:32, 320.54s/it]"
     ]
    },
    {
     "name": "stdout",
     "output_type": "stream",
     "text": [
      "iter 1 - I(X;Y)=2.988892 - took 319.94s\n",
      "threshold =  [-0.5999999999999996, -0.5, 4.100000000000001]\n",
      "H_opt =  [74.0, 75.0, 121.0]\n",
      "px =  [4.97742142e-01 2.09813968e-08 2.10434996e-08 5.02257816e-01]\n"
     ]
    },
    {
     "name": "stderr",
     "output_type": "stream",
     "text": [
      "  3%|█▏                                      | 3/100 [15:48<8:28:27, 314.51s/it]"
     ]
    },
    {
     "name": "stdout",
     "output_type": "stream",
     "text": [
      "iter 2 - I(X;Y)=2.988954 - took 307.34s\n",
      "threshold =  [-0.5999999999999996, -0.5, 4.100000000000001]\n",
      "H_opt =  [74.0, 75.0, 121.0]\n",
      "px =  [4.98369779e-01 1.76745245e-08 1.77115076e-08 5.01630186e-01]\n"
     ]
    },
    {
     "name": "stderr",
     "output_type": "stream",
     "text": [
      "  3%|█▏                                      | 3/100 [18:10<9:47:43, 363.54s/it]\n"
     ]
    },
    {
     "ename": "KeyboardInterrupt",
     "evalue": "",
     "output_type": "error",
     "traceback": [
      "\u001b[0;31m---------------------------------------------------------------------------\u001b[0m",
      "\u001b[0;31mKeyboardInterrupt\u001b[0m                         Traceback (most recent call last)",
      "Input \u001b[0;32mIn [60]\u001b[0m, in \u001b[0;36m<cell line: 5>\u001b[0;34m()\u001b[0m\n\u001b[1;32m     17\u001b[0m tmp \u001b[38;5;241m=\u001b[39m []\n\u001b[1;32m     18\u001b[0m \u001b[38;5;28;01mfor\u001b[39;00m q \u001b[38;5;129;01min\u001b[39;00m \u001b[38;5;28mrange\u001b[39m(j):\n\u001b[0;32m---> 19\u001b[0m     tmp\u001b[38;5;241m.\u001b[39mappend(\u001b[43mcalculate_D\u001b[49m\u001b[43m(\u001b[49m\u001b[43mpx_value\u001b[49m\u001b[43m,\u001b[49m\u001b[43m \u001b[49m\u001b[43mi\u001b[49m\u001b[43m,\u001b[49m\u001b[43m \u001b[49m\u001b[43mq\u001b[49m\u001b[43m,\u001b[49m\u001b[43m \u001b[49m\u001b[43mk\u001b[49m\u001b[38;5;241;43m-\u001b[39;49m\u001b[38;5;241;43m1\u001b[39;49m\u001b[43m,\u001b[49m\u001b[43m \u001b[49m\u001b[43mS\u001b[49m\u001b[43m,\u001b[49m\u001b[43m \u001b[49m\u001b[43mN\u001b[49m\u001b[43m,\u001b[49m\u001b[43m \u001b[49m\u001b[43mPhi\u001b[49m\u001b[43m)\u001b[49m \u001b[38;5;241m+\u001b[39m\\\n\u001b[1;32m     20\u001b[0m                 calculate_D(px_value, q\u001b[38;5;241m+\u001b[39m\u001b[38;5;241m1\u001b[39m, j, \u001b[38;5;241m1\u001b[39m, S, N, Phi))\n\u001b[1;32m     21\u001b[0m \u001b[38;5;28;01mif\u001b[39;00m \u001b[38;5;28mlen\u001b[39m(tmp) \u001b[38;5;241m>\u001b[39m \u001b[38;5;241m0\u001b[39m:\n\u001b[1;32m     22\u001b[0m     D[i, j, k] \u001b[38;5;241m=\u001b[39m np\u001b[38;5;241m.\u001b[39mmin(tmp)\n",
      "Input \u001b[0;32mIn [10]\u001b[0m, in \u001b[0;36mcalculate_D\u001b[0;34m(px, i, j, k, S, N, Phi)\u001b[0m\n\u001b[1;32m     10\u001b[0m \u001b[38;5;28;01mfor\u001b[39;00m j \u001b[38;5;129;01min\u001b[39;00m \u001b[38;5;28mrange\u001b[39m(N):\n\u001b[1;32m     11\u001b[0m     \u001b[38;5;28;01mfor\u001b[39;00m i \u001b[38;5;129;01min\u001b[39;00m \u001b[38;5;28mrange\u001b[39m(k):\n\u001b[0;32m---> 12\u001b[0m         Ax[i, j] \u001b[38;5;241m=\u001b[39m \u001b[43mPhi\u001b[49m\u001b[43m[\u001b[49m\u001b[43mj\u001b[49m\u001b[43m]\u001b[49m\u001b[38;5;241;43m.\u001b[39;49m\u001b[43mcdf\u001b[49m\u001b[43m(\u001b[49m\u001b[43mH_thres\u001b[49m\u001b[43m[\u001b[49m\u001b[43mi\u001b[49m\u001b[38;5;241;43m+\u001b[39;49m\u001b[38;5;241;43m1\u001b[39;49m\u001b[43m]\u001b[49m\u001b[43m)\u001b[49m \u001b[38;5;241m-\u001b[39m Phi[j]\u001b[38;5;241m.\u001b[39mcdf(H_thres[i])\n\u001b[1;32m     14\u001b[0m Ay \u001b[38;5;241m=\u001b[39m np\u001b[38;5;241m.\u001b[39mzeros((N, k))\n\u001b[1;32m     15\u001b[0m \u001b[38;5;28;01mfor\u001b[39;00m j \u001b[38;5;129;01min\u001b[39;00m \u001b[38;5;28mrange\u001b[39m(N):\n",
      "File \u001b[0;32m~/miniconda3/envs/tf2/lib/python3.10/site-packages/scipy/stats/_distn_infrastructure.py:453\u001b[0m, in \u001b[0;36mrv_frozen.cdf\u001b[0;34m(self, x)\u001b[0m\n\u001b[1;32m    452\u001b[0m \u001b[38;5;28;01mdef\u001b[39;00m \u001b[38;5;21mcdf\u001b[39m(\u001b[38;5;28mself\u001b[39m, x):\n\u001b[0;32m--> 453\u001b[0m     \u001b[38;5;28;01mreturn\u001b[39;00m \u001b[38;5;28;43mself\u001b[39;49m\u001b[38;5;241;43m.\u001b[39;49m\u001b[43mdist\u001b[49m\u001b[38;5;241;43m.\u001b[39;49m\u001b[43mcdf\u001b[49m\u001b[43m(\u001b[49m\u001b[43mx\u001b[49m\u001b[43m,\u001b[49m\u001b[43m \u001b[49m\u001b[38;5;241;43m*\u001b[39;49m\u001b[38;5;28;43mself\u001b[39;49m\u001b[38;5;241;43m.\u001b[39;49m\u001b[43margs\u001b[49m\u001b[43m,\u001b[49m\u001b[43m \u001b[49m\u001b[38;5;241;43m*\u001b[39;49m\u001b[38;5;241;43m*\u001b[39;49m\u001b[38;5;28;43mself\u001b[39;49m\u001b[38;5;241;43m.\u001b[39;49m\u001b[43mkwds\u001b[49m\u001b[43m)\u001b[49m\n",
      "File \u001b[0;32m~/miniconda3/envs/tf2/lib/python3.10/site-packages/scipy/stats/_distn_infrastructure.py:2170\u001b[0m, in \u001b[0;36mrv_continuous.cdf\u001b[0;34m(self, x, *args, **kwds)\u001b[0m\n\u001b[1;32m   2168\u001b[0m x \u001b[38;5;241m=\u001b[39m np\u001b[38;5;241m.\u001b[39masarray((x \u001b[38;5;241m-\u001b[39m loc)\u001b[38;5;241m/\u001b[39mscale, dtype\u001b[38;5;241m=\u001b[39mdtyp)\n\u001b[1;32m   2169\u001b[0m cond0 \u001b[38;5;241m=\u001b[39m \u001b[38;5;28mself\u001b[39m\u001b[38;5;241m.\u001b[39m_argcheck(\u001b[38;5;241m*\u001b[39margs) \u001b[38;5;241m&\u001b[39m (scale \u001b[38;5;241m>\u001b[39m \u001b[38;5;241m0\u001b[39m)\n\u001b[0;32m-> 2170\u001b[0m cond1 \u001b[38;5;241m=\u001b[39m \u001b[38;5;28;43mself\u001b[39;49m\u001b[38;5;241;43m.\u001b[39;49m\u001b[43m_open_support_mask\u001b[49m\u001b[43m(\u001b[49m\u001b[43mx\u001b[49m\u001b[43m,\u001b[49m\u001b[43m \u001b[49m\u001b[38;5;241;43m*\u001b[39;49m\u001b[43margs\u001b[49m\u001b[43m)\u001b[49m \u001b[38;5;241m&\u001b[39m (scale \u001b[38;5;241m>\u001b[39m \u001b[38;5;241m0\u001b[39m)\n\u001b[1;32m   2171\u001b[0m cond2 \u001b[38;5;241m=\u001b[39m (x \u001b[38;5;241m>\u001b[39m\u001b[38;5;241m=\u001b[39m np\u001b[38;5;241m.\u001b[39masarray(_b)) \u001b[38;5;241m&\u001b[39m cond0\n\u001b[1;32m   2172\u001b[0m cond \u001b[38;5;241m=\u001b[39m cond0 \u001b[38;5;241m&\u001b[39m cond1\n",
      "File \u001b[0;32m~/miniconda3/envs/tf2/lib/python3.10/site-packages/scipy/stats/_distn_infrastructure.py:993\u001b[0m, in \u001b[0;36mrv_generic._open_support_mask\u001b[0;34m(self, x, *args)\u001b[0m\n\u001b[1;32m    991\u001b[0m \u001b[38;5;28;01mdef\u001b[39;00m \u001b[38;5;21m_open_support_mask\u001b[39m(\u001b[38;5;28mself\u001b[39m, x, \u001b[38;5;241m*\u001b[39margs):\n\u001b[1;32m    992\u001b[0m     a, b \u001b[38;5;241m=\u001b[39m \u001b[38;5;28mself\u001b[39m\u001b[38;5;241m.\u001b[39m_get_support(\u001b[38;5;241m*\u001b[39margs)\n\u001b[0;32m--> 993\u001b[0m     \u001b[38;5;28;01mwith\u001b[39;00m np\u001b[38;5;241m.\u001b[39merrstate(invalid\u001b[38;5;241m=\u001b[39m\u001b[38;5;124m'\u001b[39m\u001b[38;5;124mignore\u001b[39m\u001b[38;5;124m'\u001b[39m):\n\u001b[1;32m    994\u001b[0m         \u001b[38;5;28;01mreturn\u001b[39;00m (a \u001b[38;5;241m<\u001b[39m x) \u001b[38;5;241m&\u001b[39m (x \u001b[38;5;241m<\u001b[39m b)\n",
      "File \u001b[0;32m~/miniconda3/envs/tf2/lib/python3.10/site-packages/numpy/core/_ufunc_config.py:435\u001b[0m, in \u001b[0;36merrstate.__exit__\u001b[0;34m(self, *exc_info)\u001b[0m\n\u001b[1;32m    434\u001b[0m \u001b[38;5;28;01mdef\u001b[39;00m \u001b[38;5;21m__exit__\u001b[39m(\u001b[38;5;28mself\u001b[39m, \u001b[38;5;241m*\u001b[39mexc_info):\n\u001b[0;32m--> 435\u001b[0m     \u001b[43mseterr\u001b[49m\u001b[43m(\u001b[49m\u001b[38;5;241;43m*\u001b[39;49m\u001b[38;5;241;43m*\u001b[39;49m\u001b[38;5;28;43mself\u001b[39;49m\u001b[38;5;241;43m.\u001b[39;49m\u001b[43moldstate\u001b[49m\u001b[43m)\u001b[49m\n\u001b[1;32m    436\u001b[0m     \u001b[38;5;28;01mif\u001b[39;00m \u001b[38;5;28mself\u001b[39m\u001b[38;5;241m.\u001b[39mcall \u001b[38;5;129;01mis\u001b[39;00m \u001b[38;5;129;01mnot\u001b[39;00m _Unspecified:\n\u001b[1;32m    437\u001b[0m         seterrcall(\u001b[38;5;28mself\u001b[39m\u001b[38;5;241m.\u001b[39moldcall)\n",
      "File \u001b[0;32m~/miniconda3/envs/tf2/lib/python3.10/site-packages/numpy/core/_ufunc_config.py:32\u001b[0m, in \u001b[0;36mseterr\u001b[0;34m(all, divide, over, under, invalid)\u001b[0m\n\u001b[1;32m     22\u001b[0m _errdict \u001b[38;5;241m=\u001b[39m {\u001b[38;5;124m\"\u001b[39m\u001b[38;5;124mignore\u001b[39m\u001b[38;5;124m\"\u001b[39m: ERR_IGNORE,\n\u001b[1;32m     23\u001b[0m             \u001b[38;5;124m\"\u001b[39m\u001b[38;5;124mwarn\u001b[39m\u001b[38;5;124m\"\u001b[39m: ERR_WARN,\n\u001b[1;32m     24\u001b[0m             \u001b[38;5;124m\"\u001b[39m\u001b[38;5;124mraise\u001b[39m\u001b[38;5;124m\"\u001b[39m: ERR_RAISE,\n\u001b[1;32m     25\u001b[0m             \u001b[38;5;124m\"\u001b[39m\u001b[38;5;124mcall\u001b[39m\u001b[38;5;124m\"\u001b[39m: ERR_CALL,\n\u001b[1;32m     26\u001b[0m             \u001b[38;5;124m\"\u001b[39m\u001b[38;5;124mprint\u001b[39m\u001b[38;5;124m\"\u001b[39m: ERR_PRINT,\n\u001b[1;32m     27\u001b[0m             \u001b[38;5;124m\"\u001b[39m\u001b[38;5;124mlog\u001b[39m\u001b[38;5;124m\"\u001b[39m: ERR_LOG}\n\u001b[1;32m     29\u001b[0m _errdict_rev \u001b[38;5;241m=\u001b[39m {value: key \u001b[38;5;28;01mfor\u001b[39;00m key, value \u001b[38;5;129;01min\u001b[39;00m _errdict\u001b[38;5;241m.\u001b[39mitems()}\n\u001b[0;32m---> 32\u001b[0m \u001b[38;5;129m@set_module\u001b[39m(\u001b[38;5;124m'\u001b[39m\u001b[38;5;124mnumpy\u001b[39m\u001b[38;5;124m'\u001b[39m)\n\u001b[1;32m     33\u001b[0m \u001b[38;5;28;01mdef\u001b[39;00m \u001b[38;5;21mseterr\u001b[39m(\u001b[38;5;28mall\u001b[39m\u001b[38;5;241m=\u001b[39m\u001b[38;5;28;01mNone\u001b[39;00m, divide\u001b[38;5;241m=\u001b[39m\u001b[38;5;28;01mNone\u001b[39;00m, over\u001b[38;5;241m=\u001b[39m\u001b[38;5;28;01mNone\u001b[39;00m, under\u001b[38;5;241m=\u001b[39m\u001b[38;5;28;01mNone\u001b[39;00m, invalid\u001b[38;5;241m=\u001b[39m\u001b[38;5;28;01mNone\u001b[39;00m):\n\u001b[1;32m     34\u001b[0m     \u001b[38;5;124;03m\"\"\"\u001b[39;00m\n\u001b[1;32m     35\u001b[0m \u001b[38;5;124;03m    Set how floating-point errors are handled.\u001b[39;00m\n\u001b[1;32m     36\u001b[0m \n\u001b[0;32m   (...)\u001b[0m\n\u001b[1;32m    106\u001b[0m \n\u001b[1;32m    107\u001b[0m \u001b[38;5;124;03m    \"\"\"\u001b[39;00m\n\u001b[1;32m    109\u001b[0m     pyvals \u001b[38;5;241m=\u001b[39m umath\u001b[38;5;241m.\u001b[39mgeterrobj()\n",
      "\u001b[0;31mKeyboardInterrupt\u001b[0m: "
     ]
    }
   ],
   "source": [
    "I_list = []\n",
    "px_list = []\n",
    "h_list = []\n",
    "\n",
    "for iteration in tqdm.tqdm(range(100)):\n",
    "    start = time.time()\n",
    "    # step 1\n",
    "    status, obj_value, px_value = channel_capacity(N, K, A)\n",
    "\n",
    "    # step 2\n",
    "    D = np.zeros((N, M, K))\n",
    "    H = np.zeros((K, M))\n",
    "\n",
    "    for k in range(1, K):\n",
    "        for i in range(N):\n",
    "            for j in range(M):\n",
    "                tmp = []\n",
    "                for q in range(j):\n",
    "                    tmp.append(calculate_D(px_value, i, q, k-1, S, N, Phi) +\\\n",
    "                                calculate_D(px_value, q+1, j, 1, S, N, Phi))\n",
    "                if len(tmp) > 0:\n",
    "                    D[i, j, k] = np.min(tmp)\n",
    "                    H[k, j] = np.argmin(tmp)\n",
    "                else:\n",
    "                    D[i, j, k] = 0\n",
    "                    H[k, j] = 0\n",
    "\n",
    "    H_K = M-1\n",
    "    H_opt = []\n",
    "    for i in np.arange(K-1)[::-1]:\n",
    "        H_ = H[i+1, int(H_K)]\n",
    "        H_opt.append(H_)\n",
    "        H_K = H_\n",
    "\n",
    "    H_opt = H_opt[::-1]\n",
    "\n",
    "    # recompute A\n",
    "    thres = [S[int(l)] for l in H_opt]\n",
    "    Hx = [S[0]] + thres + [S[-1]]\n",
    "\n",
    "    A = np.zeros((K, N))\n",
    "\n",
    "    for j in range(N):\n",
    "        for i in range(K):\n",
    "            A[i, j] = Phi[j].cdf(Hx[i+1]) - Phi[j].cdf(Hx[i])\n",
    "\n",
    "    # calculate I(X;Y)\n",
    "    py = np.matmul(A, px_value)\n",
    "\n",
    "    # I is the mutual information between x and y\n",
    "    c = np.sum(np.array((xlogy(A, A) / math.log(2))), axis=0)\n",
    "    I = -np.sum(py*c) - np.sum(np.array((xlogy(py, py) / math.log(2))), axis=0)\n",
    "    stop = time.time()\n",
    "    print(\"iter {} - I(X;Y)={:.6f} - took {:.2f}s\".format(iteration, I, stop-start))\n",
    "    print(\"threshold = \", thres)\n",
    "    print(\"H_opt = \", H_opt)\n",
    "    print(\"px = \", px_value)\n",
    "    \n",
    "    I_list.append(I)\n",
    "    h_list.append(H_opt)\n",
    "    px_list.append(px_value)"
   ]
  },
  {
   "cell_type": "code",
   "execution_count": null,
   "id": "988aef32-6da5-4044-a65e-a3dc02eec102",
   "metadata": {},
   "outputs": [],
   "source": []
  }
 ],
 "metadata": {
  "kernelspec": {
   "display_name": "tf2",
   "language": "python",
   "name": "tf2"
  },
  "language_info": {
   "codemirror_mode": {
    "name": "ipython",
    "version": 3
   },
   "file_extension": ".py",
   "mimetype": "text/x-python",
   "name": "python",
   "nbconvert_exporter": "python",
   "pygments_lexer": "ipython3",
   "version": "3.10.4"
  }
 },
 "nbformat": 4,
 "nbformat_minor": 5
}

{
 "cells": [
  {
   "cell_type": "code",
   "execution_count": 1,
   "id": "a2fc823f-7f81-44a3-be6c-8abbdea02354",
   "metadata": {},
   "outputs": [],
   "source": [
    "import cvxpy as cp\n",
    "import numpy as np\n",
    "import tqdm\n",
    "import scipy\n",
    "import math\n",
    "from scipy.special import xlogy\n",
    "import time"
   ]
  },
  {
   "cell_type": "markdown",
   "id": "759c1101-9d8c-4986-8851-8393e6d792e7",
   "metadata": {},
   "source": [
    "## Dynamic Programming to find Optimal quantizer"
   ]
  },
  {
   "cell_type": "markdown",
   "id": "a615aee8-1b7a-44a0-9702-483c15801da0",
   "metadata": {},
   "source": [
    "Dynamic Programming for Quantization of q-ary Input Discrete Memoryless Channels"
   ]
  },
  {
   "cell_type": "code",
   "execution_count": 2,
   "id": "76053d42-e68e-4369-a709-335bc31c2753",
   "metadata": {},
   "outputs": [],
   "source": [
    "def calculate_transition_matrix(Px, N, Q, Phi):\n",
    "    Ayx = np.zeros((N, Q))\n",
    "\n",
    "    for j in range(Q):\n",
    "        for i in range(N):\n",
    "            Ayx[i, j] = Phi[j].cdf(S[i+1]) - Phi[j].cdf(S[i])\n",
    "\n",
    "    Axy = np.zeros((Q, N))\n",
    "    for m in range(Q):\n",
    "        for n in range(N):\n",
    "            Axy[m, n] = Px[m]*Ayx[n, m]/np.sum(Px*Ayx[n,:])\n",
    "\n",
    "    # fix nan values by repeating nearest row\n",
    "    Axy_cp = Axy.T.copy()\n",
    "\n",
    "    nan_index = np.arange(N)[np.any(np.isnan(Axy.T), axis=1) == True]\n",
    "    upper_half = nan_index[nan_index<N/2]\n",
    "    lower_half = nan_index[nan_index>=N/2]\n",
    "\n",
    "    if len(upper_half) > 0:\n",
    "        upper_half_idx = upper_half[-1]\n",
    "        Axy_cp[:upper_half_idx+1,:] = Axy_cp[upper_half_idx+1,:]\n",
    "\n",
    "    if len(lower_half) > 0:\n",
    "        lower_half_idx = lower_half[0]\n",
    "        Axy_cp[lower_half_idx:,:] = Axy_cp[lower_half_idx-1,:]\n",
    "\n",
    "    Axy = Axy_cp.T\n",
    "\n",
    "    Py = np.matmul(Ayx, Px)\n",
    "\n",
    "    Pxy = Axy*Py\n",
    "    \n",
    "    return Ayx, Axy, Py, Pxy\n",
    "\n",
    "def calculate_cost_w(l, r, Pxy, Py):\n",
    "    tmp = []\n",
    "    dem = np.sum(Py[l:r+1])\n",
    "    for k in range(l, r+1):\n",
    "        tmp_tmp = []\n",
    "        for i in range(Q):\n",
    "            num = np.sum(Pxy[i,l:r+1])\n",
    "            ent = xlogy(num/dem, num/dem)\n",
    "            # print(num, dem, ent)\n",
    "            tmp_tmp.append(ent)\n",
    "            # print(num, dem, ent)\n",
    "        tmp.append(Py[k]*sum(tmp_tmp))\n",
    "    return -np.sum(tmp)\n",
    "\n",
    "def dp_optimal_quantizer(N, M, Pxy, Py):\n",
    "    DP = np.zeros((N, M))\n",
    "    SOL = np.zeros((N, M))\n",
    "\n",
    "    for n in range(N):\n",
    "        DP[n, 0] = calculate_cost_w(0, n, Pxy, Py)\n",
    "        SOL[n, 0] = 0\n",
    "\n",
    "    for m in range(1, M):\n",
    "        for n in np.arange(m, N-M+m+1)[::-1]:\n",
    "            tmp = []\n",
    "            for t in range(m-1, n):\n",
    "                tmp.append(DP[t, m-1] + calculate_cost_w(t+1, n, Pxy, Py))\n",
    "            # SOL[n, m] = np.argmin(tmp)\n",
    "            SOL[n, m] = np.arange(m-1, n)[np.argmin(tmp)]\n",
    "            t = int(SOL[n, m])\n",
    "            DP[n, m] = DP[t, m-1] + calculate_cost_w(t+1, n, Pxy, Py)\n",
    "            \n",
    "    H = []\n",
    "    h_prev = N\n",
    "    H.append(h_prev)\n",
    "    for m in np.arange(M)[::-1]:\n",
    "        h_prev = int(SOL[h_prev-1, m]) + 1\n",
    "        H.append(h_prev)\n",
    "    H[-1] -= 1\n",
    "    H = H[::-1]\n",
    "    \n",
    "    return H, DP[N-1, M-1]"
   ]
  },
  {
   "cell_type": "markdown",
   "id": "5cce8c3a-b9c0-4a7b-a55e-a672b85aaf12",
   "metadata": {},
   "source": [
    "## Exhaustive search for Optimal Quantization"
   ]
  },
  {
   "cell_type": "code",
   "execution_count": 66,
   "id": "831c10f7-97a4-4804-9d92-a2655871410f",
   "metadata": {},
   "outputs": [],
   "source": [
    "def calculate_I(px, Q, M, Phi, H_thres):\n",
    "    Ax = np.zeros((M, Q))\n",
    "    for m in range(Q):\n",
    "        for n in range(M):\n",
    "            Ax[n, m] = Phi[m].cdf(H_thres[n+1]) - Phi[m].cdf(H_thres[n])\n",
    "            \n",
    "    py = np.matmul(Ax, px)\n",
    "    Hy = -np.sum(np.array((xlogy(py, py) / math.log(2))), axis=0)\n",
    "    \n",
    "    c = np.sum(np.array((xlogy(Ax, Ax) / math.log(2))), axis=0)\n",
    "    Hyx = -np.sum(px*c)\n",
    "    \n",
    "    I = Hy - Hyx\n",
    "    \n",
    "    return I"
   ]
  },
  {
   "cell_type": "code",
   "execution_count": 67,
   "id": "e8de5e20-f611-432e-a8e4-9193a07cd5b6",
   "metadata": {},
   "outputs": [],
   "source": [
    "def exhaustive_search_quantization_3_level(Px, N, Q, M, S, Phi):\n",
    "    search_thresh = S[1:-1]\n",
    "    data = {}\n",
    "    current_best = -np.inf\n",
    "    current_best_thres = None\n",
    "    for idx_h1, h1 in tqdm.tqdm(enumerate(search_thresh[:-1])):\n",
    "        for idx_h2, h2 in enumerate(search_thresh[idx_h1+1:]):\n",
    "            data[(h1, h2)] = calculate_I(Px, Q, M, Phi, [S[0], h1, h2, S[-1]])\n",
    "            if data[(h1, h2)] > current_best:\n",
    "                current_best = data[(h1, h2)]\n",
    "                current_best_thres = (h1, h2)\n",
    "                \n",
    "    return current_best, current_best_thres, data\n",
    "\n",
    "def exhaustive_search_quantization_4_level(Px, N, Q, M, S, Phi):\n",
    "    search_thresh = S[1:-1]\n",
    "    data = {}\n",
    "    current_best = -np.inf\n",
    "    current_best_thres = None\n",
    "    for idx_h1, h1 in tqdm.tqdm(enumerate(search_thresh[:-2])):\n",
    "        for idx_h2, h2 in enumerate(search_thresh[idx_h1+1:-1]):\n",
    "            for idx_h3, h3 in enumerate(search_thresh[idx_h2+1:]):\n",
    "                data[(h1, h2, h3)] = calculate_I(Px, Q, M, Phi, [S[0], h1, h2, h3, S[-1]])\n",
    "                if data[(h1, h2, h3)] > current_best:\n",
    "                    current_best = data[(h1, h2, h3)]\n",
    "                    current_best_thres = (h1, h2, h3)\n",
    "                \n",
    "    return current_best, current_best_thres, data"
   ]
  },
  {
   "cell_type": "code",
   "execution_count": 31,
   "id": "06de1fd9-588a-4865-9dce-8d47cffd2246",
   "metadata": {},
   "outputs": [
    {
     "name": "stderr",
     "output_type": "stream",
     "text": [
      "198it [00:34,  5.73it/s]"
     ]
    },
    {
     "name": "stdout",
     "output_type": "stream",
     "text": [
      "(-1.4399999999999995, 1.2799999999999994)\n"
     ]
    },
    {
     "name": "stderr",
     "output_type": "stream",
     "text": [
      "\n"
     ]
    }
   ],
   "source": [
    "print(\"Setting X={}, Px={}, N={}\".format(X, Px, N))\n",
    "\n",
    "current_best, current_best_thres, data = exhaustive_search_quantization_3_level(Px, N, Q, M, S, Phi)\n",
    "print(\"exhaustive search\", current_best_thres)\n",
    "\n",
    "s = time.time()\n",
    "Ayx, Axy, Py, Pxy = calculate_transition_matrix(Px, N, Q, Phi)\n",
    "opt_H, opt_value = dp_optimal_quantizer(N, M, Pxy, Py)\n",
    "print(\"took {:.2f}s\".format(time.time()-s))\n",
    "print(S[opt_H])"
   ]
  },
  {
   "cell_type": "code",
   "execution_count": 65,
   "id": "e6632a78-5605-4081-896b-2b1faf7fdb69",
   "metadata": {
    "tags": []
   },
   "outputs": [
    {
     "name": "stdout",
     "output_type": "stream",
     "text": [
      "Setting X=[-3.  -1.5  1.5  3. ], Px=[0.19148936 0.29787234 0.39574468 0.11489362], N=50\n"
     ]
    },
    {
     "name": "stderr",
     "output_type": "stream",
     "text": [
      "47it [01:32,  1.97s/it]\n"
     ]
    },
    {
     "name": "stdout",
     "output_type": "stream",
     "text": [
      "exhaustive search (-2.24, 0.0, 2.24)\n",
      "\n",
      "\n",
      "dynamic programming\n",
      "took 1.18s\n",
      "[-8.   -2.24  0.    2.24  8.  ]\n"
     ]
    }
   ],
   "source": [
    "print(\"Setting X={}, Px={}, N={}\".format(X, Px, N))\n",
    "\n",
    "current_best, current_best_thres, data = exhaustive_search_quantization_4_level(Px, N, Q, M, S, Phi)\n",
    "print(\"exhaustive search\", current_best_thres)\n",
    "print(\"\\n\")\n",
    "\n",
    "s = time.time()\n",
    "Ayx, Axy, Py, Pxy = calculate_transition_matrix(Px, N, Q, Phi)\n",
    "opt_H, opt_value = dp_optimal_quantizer(N, M, Pxy, Py)\n",
    "print(\"dynamic programming\")\n",
    "print(\"took {:.2f}s\".format(time.time()-s))\n",
    "print(S[opt_H])"
   ]
  },
  {
   "cell_type": "markdown",
   "id": "4b13b42b-f7a2-4f81-8324-1fe69a510281",
   "metadata": {},
   "source": [
    "## Convex Opt to find Optimal Input Distribution"
   ]
  },
  {
   "cell_type": "code",
   "execution_count": 3,
   "id": "d1aea28c-6280-4f10-a937-bf8f170b07dd",
   "metadata": {},
   "outputs": [],
   "source": [
    "def calculate_optimal_distribution(n, m, P, sum_x=1):\n",
    "    '''\n",
    "    copied from https://www.cvxpy.org/examples/applications/Channel_capacity_BV4.57.html\n",
    "    '''\n",
    "\n",
    "    # n is the number of different input values\n",
    "    # m is the number of different output values\n",
    "    if n*m == 0:\n",
    "        print('The range of both input and output values must be greater than zero')\n",
    "        return 'failed', np.nan, np.nan\n",
    "\n",
    "    # x is probability distribution of the input signal X(t)\n",
    "    x = cp.Variable(shape=n)\n",
    "\n",
    "    # y is the probability distribution of the output signal Y(t)\n",
    "    # P is the channel transition matrix\n",
    "    y = P@x\n",
    "\n",
    "    # I is the mutual information between x and y\n",
    "    c = np.sum(np.array((xlogy(P, P) / math.log(2))), axis=0)\n",
    "    I = c@x + cp.sum(cp.entr(y) / math.log(2))\n",
    "\n",
    "    # Channel capacity maximised by maximising the mutual information\n",
    "    obj = cp.Maximize(I)\n",
    "    constraints = [cp.sum(x) == sum_x,x >= 0]\n",
    "\n",
    "    # Form and solve problem\n",
    "    prob = cp.Problem(obj,constraints)\n",
    "    prob.solve()\n",
    "    if prob.status=='optimal':\n",
    "        return prob.status, prob.value, x.value\n",
    "    else:\n",
    "        return prob.status, np.nan, np.nan"
   ]
  },
  {
   "cell_type": "markdown",
   "id": "62a7871c-dd8f-4d07-878b-07ec9999e11d",
   "metadata": {},
   "source": [
    "# Test run"
   ]
  },
  {
   "cell_type": "markdown",
   "id": "980d39ee-c25c-4a2e-96b4-6e5d3dd5c936",
   "metadata": {},
   "source": [
    "## init"
   ]
  },
  {
   "cell_type": "code",
   "execution_count": 56,
   "id": "c6168b4e-bac9-4340-82d3-f134267de084",
   "metadata": {},
   "outputs": [],
   "source": [
    "X = np.array([-3, -1.5, 1.5, 3])\n",
    "Q = len(X)\n",
    "N = 50\n",
    "start = -8\n",
    "end = 8\n",
    "step = (end-start)/N\n",
    "S = np.linspace(start, end, N+1)\n",
    "M = Q\n",
    "\n",
    "sigma = 1\n",
    "Y = X + np.random.randn(Q)*sigma\n",
    "\n",
    "Phi = [scipy.stats.norm(loc=X[i], scale=sigma) for i in range(Q)]\n",
    "\n",
    "# Px = [0.2, 0.2, 0.6]"
   ]
  },
  {
   "cell_type": "code",
   "execution_count": 64,
   "id": "39a1cb6b-f59a-404e-9771-798cd845e1ae",
   "metadata": {},
   "outputs": [
    {
     "name": "stdout",
     "output_type": "stream",
     "text": [
      "[0.19148936 0.29787234 0.39574468 0.11489362]\n"
     ]
    }
   ],
   "source": [
    "# generate random Px\n",
    "Px = np.random.randint(0, 101, size = Q)\n",
    "Px = Px/np.sum(Px)\n",
    "\n",
    "print(Px)"
   ]
  },
  {
   "cell_type": "code",
   "execution_count": 180,
   "id": "591f4c63-c11d-40ab-a5ca-0e1137013fd6",
   "metadata": {},
   "outputs": [
    {
     "name": "stderr",
     "output_type": "stream",
     "text": [
      " 10%|████████▍                                                                           | 1/10 [00:38<05:46, 38.49s/it]"
     ]
    },
    {
     "name": "stdout",
     "output_type": "stream",
     "text": [
      "iter 0\n",
      "    given input distribution [0.84, 0.11, 0.05]\n",
      "    optimal quantizer [-8.   -0.48  1.68  8.  ]\n",
      "    optimal input distribution [0.39601633 0.14303827 0.46094541]\n",
      "    optimal I(X;Z) 0.9354425176383293\n",
      "    took 38.4880s\n"
     ]
    },
    {
     "name": "stderr",
     "output_type": "stream",
     "text": [
      " 20%|████████████████▊                                                                   | 2/10 [01:17<05:10, 38.76s/it]"
     ]
    },
    {
     "name": "stdout",
     "output_type": "stream",
     "text": [
      "iter 1\n",
      "    given input distribution [0.39601633 0.14303827 0.46094541]\n",
      "    optimal quantizer [-8.   -0.4   1.44  8.  ]\n",
      "    optimal input distribution [0.41890622 0.10845635 0.47263743]\n",
      "    optimal I(X;Z) 0.9466174579869522\n",
      "    took 38.9566s\n"
     ]
    },
    {
     "name": "stderr",
     "output_type": "stream",
     "text": [
      " 30%|█████████████████████████▏                                                          | 3/10 [01:56<04:30, 38.69s/it]"
     ]
    },
    {
     "name": "stdout",
     "output_type": "stream",
     "text": [
      "iter 2\n",
      "    given input distribution [0.41890622 0.10845635 0.47263743]\n",
      "    optimal quantizer [-8.   -0.32  1.36  8.  ]\n",
      "    optimal input distribution [0.43224946 0.08954416 0.47820638]\n",
      "    optimal I(X;Z) 0.9481405573140043\n",
      "    took 38.5930s\n"
     ]
    },
    {
     "name": "stderr",
     "output_type": "stream",
     "text": [
      " 40%|█████████████████████████████████▌                                                  | 4/10 [02:34<03:52, 38.70s/it]"
     ]
    },
    {
     "name": "stdout",
     "output_type": "stream",
     "text": [
      "iter 3\n",
      "    given input distribution [0.43224946 0.08954416 0.47820638]\n",
      "    optimal quantizer [-8.   -0.24  1.36  8.  ]\n",
      "    optimal input distribution [0.43780785 0.08187351 0.48031864]\n",
      "    optimal I(X;Z) 0.9484137860302166\n",
      "    took 38.7309s\n"
     ]
    },
    {
     "name": "stderr",
     "output_type": "stream",
     "text": [
      " 50%|██████████████████████████████████████████                                          | 5/10 [03:13<03:14, 38.81s/it]"
     ]
    },
    {
     "name": "stdout",
     "output_type": "stream",
     "text": [
      "iter 4\n",
      "    given input distribution [0.43780785 0.08187351 0.48031864]\n",
      "    optimal quantizer [-8.   -0.16  1.36  8.  ]\n",
      "    optimal input distribution [0.44403543 0.07332791 0.48263666]\n",
      "    optimal I(X;Z) 0.9485571555188846\n",
      "    took 38.9994s\n"
     ]
    },
    {
     "name": "stderr",
     "output_type": "stream",
     "text": [
      " 50%|██████████████████████████████████████████                                          | 5/10 [03:52<03:52, 46.53s/it]"
     ]
    },
    {
     "name": "stdout",
     "output_type": "stream",
     "text": [
      "iter 5\n",
      "    given input distribution [0.44403543 0.07332791 0.48263666]\n",
      "    optimal quantizer [-8.   -0.16  1.36  8.  ]\n",
      "    optimal input distribution [0.44403543 0.07332791 0.48263666]\n",
      "    optimal I(X;Z) 0.9485571555188846\n",
      "    took 38.8635s\n",
      "stopping criterion met\n"
     ]
    },
    {
     "name": "stderr",
     "output_type": "stream",
     "text": [
      "\n"
     ]
    }
   ],
   "source": [
    "I_prev = -100\n",
    "for it in tqdm.tqdm(range(10)):\n",
    "    start = time.time()\n",
    "    \n",
    "    # dp to find optimal quantizer\n",
    "    Ayx, Axy, Py, Pxy = calculate_transition_matrix(Px, N, Q, Phi)\n",
    "    opt_H, opt_value = dp_optimal_quantizer(N, M, Pxy, Py)\n",
    "\n",
    "    # cvxopt to find optimal input distribution\n",
    "    # compute Azx\n",
    "    Hx = S[opt_H]\n",
    "    Azx = np.zeros((M, Q))\n",
    "    for j in range(Q):\n",
    "        for i in range(M):\n",
    "            Azx[i, j] = Phi[j].cdf(Hx[i+1]) - Phi[j].cdf(Hx[i])\n",
    "    status, obj_value, px_value = calculate_optimal_distribution(Q, M, Azx)\n",
    "    \n",
    "    stop = time.time()\n",
    "\n",
    "    if status == \"optimal\":\n",
    "        print(\"iter {}\".format(it))\n",
    "        print(\"    given input distribution {}\".format(Px))\n",
    "        print(\"    optimal quantizer {}\".format(S[opt_H]))\n",
    "        print(\"    optimal input distribution {}\".format(px_value))\n",
    "        print(\"    optimal I(X;Z) {}\".format(obj_value))\n",
    "        print(\"    took {:.4f}s\".format(stop-start))\n",
    "        Px = px_value\n",
    "    else:\n",
    "        print(\"cvxopt failed\")\n",
    "        break\n",
    "        \n",
    "    if abs((obj_value - I_prev)/I_prev) <= 0.0001:\n",
    "        print(\"stopping criterion met\")\n",
    "        break\n",
    "    I_prev = obj_value"
   ]
  },
  {
   "cell_type": "code",
   "execution_count": null,
   "id": "9c937e7b-755d-48d1-946b-9e2e03be0482",
   "metadata": {},
   "outputs": [],
   "source": []
  }
 ],
 "metadata": {
  "kernelspec": {
   "display_name": "tf2",
   "language": "python",
   "name": "tf2"
  },
  "language_info": {
   "codemirror_mode": {
    "name": "ipython",
    "version": 3
   },
   "file_extension": ".py",
   "mimetype": "text/x-python",
   "name": "python",
   "nbconvert_exporter": "python",
   "pygments_lexer": "ipython3",
   "version": "3.10.4"
  }
 },
 "nbformat": 4,
 "nbformat_minor": 5
}

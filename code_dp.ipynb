{
 "cells": [
  {
   "cell_type": "code",
   "execution_count": 1,
   "id": "682c4c38-0adb-46a1-817d-8c61bdd3b538",
   "metadata": {},
   "outputs": [],
   "source": [
    "import cvxpy as cp\n",
    "import numpy as np\n",
    "import tqdm\n",
    "import scipy\n",
    "import math\n",
    "from scipy.special import xlogy\n",
    "import time"
   ]
  },
  {
   "cell_type": "code",
   "execution_count": 2,
   "id": "80a0dd90-0f39-4b4f-af74-4bc812ebc12a",
   "metadata": {},
   "outputs": [],
   "source": [
    "def channel_capacity(n, m, P, sum_x=1):\n",
    "    '''\n",
    "    Boyd and Vandenberghe, Convex Optimization, exercise 4.57 page 207\n",
    "    Capacity of a communication channel.\n",
    "\n",
    "    We consider a communication channel, with input X(t)∈{1,..,n} and\n",
    "    output Y(t)∈{1,...,m}, for t=1,2,... .The relation between the\n",
    "    input and output is given statistically:\n",
    "    p_(i,j) = ℙ(Y(t)=i|X(t)=j), i=1,..,m  j=1,...,n\n",
    "\n",
    "    The matrix P ∈ ℝ^(m*n) is called the channel transition matrix, and\n",
    "    the channel is called a discrete memoryless channel. Assuming X has a\n",
    "    probability distribution denoted x ∈ ℝ^n, i.e.,\n",
    "    x_j = ℙ(X=j), j=1,...,n\n",
    "\n",
    "    The mutual information between X and Y is given by\n",
    "    ∑(∑(x_j p_(i,j)log_2(p_(i,j)/∑(x_k p_(i,k)))))\n",
    "    Then channel capacity C is given by\n",
    "    C = sup I(X;Y).\n",
    "    With a variable change of y = Px this becomes\n",
    "    I(X;Y)=  c^T x - ∑(y_i log_2 y_i)\n",
    "    where c_j = ∑(p_(i,j)log_2(p_(i,j)))\n",
    "    '''\n",
    "\n",
    "    # n is the number of different input values\n",
    "    # m is the number of different output values\n",
    "    if n*m == 0:\n",
    "        print('The range of both input and output values must be greater than zero')\n",
    "        return 'failed', np.nan, np.nan\n",
    "\n",
    "    # x is probability distribution of the input signal X(t)\n",
    "    x = cp.Variable(shape=n)\n",
    "\n",
    "    # y is the probability distribution of the output signal Y(t)\n",
    "    # P is the channel transition matrix\n",
    "    y = P@x\n",
    "\n",
    "    # I is the mutual information between x and y\n",
    "    c = np.sum(np.array((xlogy(P, P) / math.log(2))), axis=0)\n",
    "    I = c@x + cp.sum(cp.entr(y) / math.log(2))\n",
    "\n",
    "    # Channel capacity maximised by maximising the mutual information\n",
    "    obj = cp.Maximize(I)\n",
    "    constraints = [cp.sum(x) == sum_x,x >= 0]\n",
    "\n",
    "    # Form and solve problem\n",
    "    prob = cp.Problem(obj,constraints)\n",
    "    prob.solve()\n",
    "    if prob.status=='optimal':\n",
    "        return prob.status, prob.value, x.value\n",
    "    else:\n",
    "        return prob.status, np.nan, np.nan"
   ]
  },
  {
   "cell_type": "code",
   "execution_count": 342,
   "id": "7f68f4d0-14fa-4825-90c7-aa7fa741a8db",
   "metadata": {},
   "outputs": [],
   "source": [
    "def calculate_base_D(px, i, j, k, S, N, Phi):\n",
    "    if i == j:\n",
    "        H_thres = [S[i-1], S[j]]\n",
    "    H_thres = [S[i], S[j]]\n",
    "    # H_thres = np.linspace(S[i], S[j], k+1)\n",
    "    # H_thres[0] = S[0]\n",
    "    # H_thres[-1] = S[-1]\n",
    "    \n",
    "    Ax = np.zeros((k, N))\n",
    "    for m in range(N):\n",
    "        for n in range(k):\n",
    "            Ax[n, m] = Phi[m].cdf(H_thres[n+1]) - Phi[m].cdf(H_thres[n])\n",
    "            \n",
    "    # py = np.matmul(Ax, px)\n",
    "    # Hy = -np.sum(np.array((xlogy(py, py) / math.log(2))), axis=0)\n",
    "    \n",
    "#     c = np.sum(np.array((xlogy(Ax, Ax) / math.log(2))), axis=0)\n",
    "#     Hyx = -np.sum(px*c)\n",
    "    \n",
    "#     I = Hy - Hyx\n",
    "    \n",
    "    # Ay = (Ax*px)/np.sum(Ax*px, axis=1)\n",
    "    # Ay = Ay.T\n",
    "\n",
    "    # do this to handle divide by zero\n",
    "\n",
    "    Ay = np.zeros((N, k))\n",
    "    for m in range(N):\n",
    "        for n in range(k):\n",
    "            if np.round(np.sum(px*Ax[n,:]), 10) == 0:\n",
    "                Ay[m, n] = 0\n",
    "            else:\n",
    "                Ay[m, n] = px[m]*Ax[n, m]/np.sum(px*Ax[n,:])\n",
    "\n",
    "    py = np.matmul(Ax, px)\n",
    "    c = np.sum(np.array((xlogy(Ay, Ay) / math.log(2))), axis=0)\n",
    "    # Hxy = -np.sum(py*c)\n",
    "    \n",
    "    return -np.sum(py*c)"
   ]
  },
  {
   "cell_type": "markdown",
   "id": "e17ee90b-b6d4-4775-86e0-f87003f8f562",
   "metadata": {},
   "source": [
    "## init"
   ]
  },
  {
   "cell_type": "code",
   "execution_count": 299,
   "id": "cc99f2a1-4499-4005-89cb-32afb27bd7db",
   "metadata": {},
   "outputs": [],
   "source": [
    "X = np.array([-3, 0, 3])\n",
    "Q = len(X)\n",
    "N = 20\n",
    "start = -8\n",
    "end = 8\n",
    "step = (end-start)/N\n",
    "S = np.linspace(-8, 8, N+1)\n",
    "M = 3\n",
    "\n",
    "sigma = 0.5\n",
    "Y = X + np.random.randn(Q)*sigma\n",
    "\n",
    "Phi = [scipy.stats.norm(loc=X[i], scale=sigma) for i in range(Q)]\n",
    "\n",
    "# thres = [-1.5, 1.5]\n",
    "# thresholds = [S[0]] + thres +[S[-1]]\n",
    "\n",
    "# A = np.zeros((M, Q))\n",
    "\n",
    "# for j in range(Q):\n",
    "#     for i in range(M):\n",
    "#         A[i, j] = PhiY[j].cdf(thresholds[i+1]) - PhiY[j].cdf(thresholds[i])"
   ]
  },
  {
   "cell_type": "code",
   "execution_count": 304,
   "id": "ec7fe162-74d9-45a2-b2cc-c8aed8479651",
   "metadata": {},
   "outputs": [],
   "source": [
    "px = [1/3, 1/3, 1/3]"
   ]
  },
  {
   "cell_type": "code",
   "execution_count": 343,
   "id": "a2a646cb-f878-4b7a-9cb1-6764284b5556",
   "metadata": {},
   "outputs": [],
   "source": [
    "D = np.zeros((N+1, M+1))\n",
    "H = np.zeros((N+1, M+1))"
   ]
  },
  {
   "cell_type": "code",
   "execution_count": 348,
   "id": "2fbf382e-e53a-4c8c-90cd-460c02022f31",
   "metadata": {},
   "outputs": [],
   "source": [
    "for n in range(1, N+1):\n",
    "    D[n, 1] = calculate_base_D(px, 0, n, 1, S, Q, Phi)\n",
    "    H[n, 1] = 0\n",
    "    \n",
    "for m in range(2, M+1):\n",
    "    for n in np.arange(m, N-M+m+1)[::-1]:\n",
    "        tmp = []\n",
    "        for t in range(m-1, n):\n",
    "            # print(t, m-1,D[t, m-1])\n",
    "            tmp.append(D[t, m-1] + calculate_base_D(px, t+1, n, 1, S, Q, Phi))\n",
    "        # print(tmp)\n",
    "        h = np.argmin(tmp)\n",
    "        H[n, m] = h\n",
    "        D[n, m] = D[h, m-1] + calculate_base_D(px, h+1, n, 1, S, Q, Phi)\n",
    "        \n",
    "H = H.astype(int)"
   ]
  },
  {
   "cell_type": "code",
   "execution_count": 354,
   "id": "2603d383-61ec-4873-ad07-74a80d5a3129",
   "metadata": {},
   "outputs": [
    {
     "data": {
      "text/plain": [
       "array([[-0.00000000e+00,  0.00000000e+00,  0.00000000e+00],\n",
       "       [-0.00000000e+00,  0.00000000e+00,  0.00000000e+00],\n",
       "       [ 4.89617602e-28,  4.89617085e-28,  4.89617602e-28],\n",
       "       [ 7.79001386e-21,  7.78989305e-21,  7.79001386e-21],\n",
       "       [ 9.64179885e-15,  9.64001596e-15,  9.64179624e-15],\n",
       "       [ 8.67239237e-10,  8.64680760e-10,  8.67221979e-10],\n",
       "       [ 5.69395689e-06,  5.50526080e-06,  5.68402060e-06],\n",
       "       [ 2.73632379e-03,  2.01420472e-03,  2.59633368e-03],\n",
       "       [ 1.03592815e-01,  5.00629047e-03,  5.13660088e-02],\n",
       "       [ 4.59147927e-01,  7.71945550e-03,  1.42559000e-01],\n",
       "       [ 6.48064886e-01,  8.53525191e-03,  1.75142096e-01],\n",
       "       [ 6.75853652e-01,  1.71366223e-02,  1.27200520e-02],\n",
       "       [ 8.81572197e-01,  1.86723440e-01,  1.47565289e-01],\n",
       "       [ 1.38027171e+00,  5.23628260e-01,  3.85104640e-01],\n",
       "       [ 1.57285932e+00,  6.43460575e-01,  4.59676211e-01],\n",
       "       [ 1.58487844e+00,  6.50750296e-01,  4.64123192e-01],\n",
       "       [ 1.58496245e+00,  6.50801178e-01,  4.64154198e-01],\n",
       "       [ 1.58496250e+00,  6.50801209e-01,  4.64154218e-01],\n",
       "       [ 1.58496250e+00,  5.62740742e-01,  4.64154218e-01],\n",
       "       [ 1.58496250e+00,  0.00000000e+00,  4.64154218e-01]])"
      ]
     },
     "execution_count": 354,
     "metadata": {},
     "output_type": "execute_result"
    }
   ],
   "source": [
    "D[1:,1:]"
   ]
  },
  {
   "cell_type": "code",
   "execution_count": 350,
   "id": "2ccf6839-a18f-4913-8935-2860905703df",
   "metadata": {},
   "outputs": [
    {
     "data": {
      "text/plain": [
       "array([[0, 0, 0, 0],\n",
       "       [0, 0, 0, 0],\n",
       "       [0, 0, 0, 0],\n",
       "       [0, 0, 1, 0],\n",
       "       [0, 0, 2, 1],\n",
       "       [0, 0, 3, 2],\n",
       "       [0, 0, 4, 3],\n",
       "       [0, 0, 5, 4],\n",
       "       [0, 0, 6, 5],\n",
       "       [0, 0, 7, 6],\n",
       "       [0, 0, 7, 6],\n",
       "       [0, 0, 7, 6],\n",
       "       [0, 0, 7, 9],\n",
       "       [0, 0, 7, 9],\n",
       "       [0, 0, 8, 9],\n",
       "       [0, 0, 8, 9],\n",
       "       [0, 0, 8, 9],\n",
       "       [0, 0, 8, 9],\n",
       "       [0, 0, 8, 9],\n",
       "       [0, 0, 9, 9],\n",
       "       [0, 0, 0, 9]])"
      ]
     },
     "execution_count": 350,
     "metadata": {},
     "output_type": "execute_result"
    }
   ],
   "source": [
    "H"
   ]
  },
  {
   "cell_type": "code",
   "execution_count": 351,
   "id": "de887680-d19c-4aa1-afc1-2d7ad1c1dd4a",
   "metadata": {},
   "outputs": [],
   "source": [
    "h_opt = []\n",
    "h_prev = N\n",
    "h_opt.append(h_prev)\n",
    "\n",
    "for m in np.arange(1, M+1)[::-1]:\n",
    "    h_prev = H[h_prev, m]\n",
    "    h_opt.append(h_prev)"
   ]
  },
  {
   "cell_type": "code",
   "execution_count": 352,
   "id": "b7eb3d7a-55e1-4775-906f-28ca16af1f3b",
   "metadata": {},
   "outputs": [
    {
     "name": "stdout",
     "output_type": "stream",
     "text": [
      "[-8.0, -2.3999999999999995, -0.7999999999999998, 8.0]\n"
     ]
    }
   ],
   "source": [
    "thres = []\n",
    "for h in h_opt[::-1]:\n",
    "    thres.append(S[h])\n",
    "print(thres)"
   ]
  },
  {
   "cell_type": "code",
   "execution_count": 335,
   "id": "80eb683d-e6a8-4fd1-87bd-4c9306b6f300",
   "metadata": {},
   "outputs": [
    {
     "data": {
      "text/plain": [
       "array([2, 1, 0])"
      ]
     },
     "execution_count": 340,
     "metadata": {},
     "output_type": "execute_result"
    }
   ],
   "source": [
    "np.arange(M)[::-1]"
   ]
  },
  {
   "cell_type": "code",
   "execution_count": 71,
   "id": "d499cfd7-dea5-48ba-9ab8-4cf9022d8b19",
   "metadata": {},
   "outputs": [
    {
     "data": {
      "text/plain": [
       "-0.39999999999999947"
      ]
     },
     "execution_count": 71,
     "metadata": {},
     "output_type": "execute_result"
    }
   ],
   "source": [
    "S[19]"
   ]
  },
  {
   "cell_type": "code",
   "execution_count": 72,
   "id": "0071e264-675c-465f-9f0e-07e0050b9b7f",
   "metadata": {},
   "outputs": [
    {
     "data": {
      "text/plain": [
       "-2.8"
      ]
     },
     "execution_count": 72,
     "metadata": {},
     "output_type": "execute_result"
    }
   ],
   "source": [
    "S[13]"
   ]
  },
  {
   "cell_type": "code",
   "execution_count": 20,
   "id": "922112cd-8af2-441d-8e8b-c3a71d439298",
   "metadata": {},
   "outputs": [
    {
     "data": {
      "text/plain": [
       "array([[ 0.,  0.,  0.],\n",
       "       [ 1.,  0.,  0.],\n",
       "       [ 2.,  1.,  0.],\n",
       "       [ 3.,  2.,  1.],\n",
       "       [ 4.,  3.,  2.],\n",
       "       [ 5.,  4.,  3.],\n",
       "       [ 6.,  5.,  4.],\n",
       "       [ 7.,  6.,  5.],\n",
       "       [ 8.,  7.,  6.],\n",
       "       [ 9.,  8.,  7.],\n",
       "       [10.,  8.,  8.],\n",
       "       [11., 10.,  9.],\n",
       "       [12., 11., 10.],\n",
       "       [13., 12., 11.],\n",
       "       [14., 12., 12.],\n",
       "       [15., 12., 12.],\n",
       "       [16., 12., 12.],\n",
       "       [ 0., 12., 12.],\n",
       "       [ 0.,  0., 12.],\n",
       "       [ 0.,  0.,  0.]])"
      ]
     },
     "execution_count": 20,
     "metadata": {},
     "output_type": "execute_result"
    }
   ],
   "source": [
    "H"
   ]
  },
  {
   "cell_type": "code",
   "execution_count": 15,
   "id": "5016d700-f0ed-4471-bb68-bc067af387c2",
   "metadata": {},
   "outputs": [
    {
     "data": {
      "text/plain": [
       "3"
      ]
     },
     "execution_count": 15,
     "metadata": {},
     "output_type": "execute_result"
    }
   ],
   "source": [
    "N"
   ]
  },
  {
   "cell_type": "code",
   "execution_count": null,
   "id": "844087cf-e26c-4529-a672-dd8338e5cf96",
   "metadata": {},
   "outputs": [],
   "source": []
  }
 ],
 "metadata": {
  "kernelspec": {
   "display_name": "tf2",
   "language": "python",
   "name": "tf2"
  },
  "language_info": {
   "codemirror_mode": {
    "name": "ipython",
    "version": 3
   },
   "file_extension": ".py",
   "mimetype": "text/x-python",
   "name": "python",
   "nbconvert_exporter": "python",
   "pygments_lexer": "ipython3",
   "version": "3.10.4"
  }
 },
 "nbformat": 4,
 "nbformat_minor": 5
}
